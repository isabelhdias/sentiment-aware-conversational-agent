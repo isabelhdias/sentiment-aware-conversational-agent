{
 "cells": [
  {
   "cell_type": "markdown",
   "metadata": {},
   "source": [
    "# Data Analysis\n",
    "## Emotion Push\n",
    "Emotion Push dataset data exploration to retrieve sentiment lexicon and dataset creation. \n",
    "\n",
    "@input: json file \n",
    "    attributes: speaker, utterance, emotion, annotation\n",
    "    \n",
    "@output: json file\n",
    "    attributes: conv_id, speaker, utterance, emotion, annotation"
   ]
  },
  {
   "cell_type": "code",
   "execution_count": 2,
   "metadata": {},
   "outputs": [
    {
     "name": "stderr",
     "output_type": "stream",
     "text": [
      "/Users/isabeldias/Documents/Envs/thesis/lib/python3.7/site-packages/gensim/similarities/__init__.py:15: UserWarning: The gensim.similarities.levenshtein submodule is disabled, because the optional Levenshtein package <https://pypi.org/project/python-Levenshtein/> is unavailable. Install Levenhstein (e.g. `pip install python-Levenshtein`) to suppress this warning.\n",
      "  warnings.warn(msg)\n"
     ]
    }
   ],
   "source": [
    "import data_analysis as data_analysis\n",
    "\n",
    "import json\n",
    "import matplotlib.pyplot as plt \n",
    "import numpy as np\n",
    "import os\n",
    "import pandas as pd\n",
    "\n",
    "from pycontractions import Contractions\n",
    "\n",
    "from sklearn.feature_extraction.text import CountVectorizer\n",
    "from sklearn.feature_extraction.text import TfidfVectorizer\n",
    "from tqdm import tqdm"
   ]
  },
  {
   "cell_type": "code",
   "execution_count": 3,
   "metadata": {},
   "outputs": [
    {
     "data": {
      "text/plain": [
       "'\\nlist(cont.expand_texts([\"I\\'d like to know how I\\'d done that!\",\\n                            \"We\\'re going to the zoo and I don\\'t think I\\'ll be home for dinner.\",\\n                            \"Theyre going to the zoo and she\\'ll be home for dinner.\"]))\\n                            \\n'"
      ]
     },
     "execution_count": 3,
     "metadata": {},
     "output_type": "execute_result"
    }
   ],
   "source": [
    "cont = Contractions(api_key=\"glove-twitter-200\")\n",
    "\"\"\"\n",
    "list(cont.expand_texts([\"I'd like to know how I'd done that!\",\n",
    "                            \"We're going to the zoo and I don't think I'll be home for dinner.\",\n",
    "                            \"Theyre going to the zoo and she'll be home for dinner.\"]))\n",
    "                            \n",
    "\"\"\""
   ]
  },
  {
   "cell_type": "markdown",
   "metadata": {},
   "source": [
    "### Load json and build dataframe"
   ]
  },
  {
   "cell_type": "code",
   "execution_count": 4,
   "metadata": {},
   "outputs": [],
   "source": [
    "data_location = \"../data/emotionpush/train.json\"\n",
    "save_location = \"../data/emotionpush/\"\n",
    "\n",
    "data_location_dev = \"../data/emotionpush/dev.json\"\n",
    "data_location_test = \"../data/emotionpush/test.json\""
   ]
  },
  {
   "cell_type": "code",
   "execution_count": 5,
   "metadata": {},
   "outputs": [],
   "source": [
    "data_dict = data_analysis.load_json(data_location)\n",
    "\n",
    "data_dict_dev = data_analysis.load_json(data_location_dev)\n",
    "data_dict_test = data_analysis.load_json(data_location_test)"
   ]
  },
  {
   "cell_type": "code",
   "execution_count": 6,
   "metadata": {},
   "outputs": [
    {
     "name": "stderr",
     "output_type": "stream",
     "text": [
      "conversation: 100%|███████████████████████████| 720/720 [00:36<00:00, 19.52it/s]\n",
      "conversation: 100%|█████████████████████████████| 80/80 [00:03<00:00, 21.51it/s]\n",
      "conversation: 100%|███████████████████████████| 200/200 [00:08<00:00, 22.36it/s]\n"
     ]
    }
   ],
   "source": [
    "df, emotions = data_analysis.dict2dataframe_emotion_lines_push(data_dict)\n",
    "\n",
    "df_dev, emotions_dev = data_analysis.dict2dataframe_emotion_lines_push(data_dict_dev)\n",
    "df_test, emotions_test = data_analysis.dict2dataframe_emotion_lines_push(data_dict_test)"
   ]
  },
  {
   "cell_type": "code",
   "execution_count": 7,
   "metadata": {},
   "outputs": [
    {
     "data": {
      "text/html": [
       "<div>\n",
       "<style scoped>\n",
       "    .dataframe tbody tr th:only-of-type {\n",
       "        vertical-align: middle;\n",
       "    }\n",
       "\n",
       "    .dataframe tbody tr th {\n",
       "        vertical-align: top;\n",
       "    }\n",
       "\n",
       "    .dataframe thead th {\n",
       "        text-align: right;\n",
       "    }\n",
       "</style>\n",
       "<table border=\"1\" class=\"dataframe\">\n",
       "  <thead>\n",
       "    <tr style=\"text-align: right;\">\n",
       "      <th></th>\n",
       "      <th>conv_id</th>\n",
       "      <th>speaker</th>\n",
       "      <th>utterance</th>\n",
       "      <th>emotion</th>\n",
       "      <th>annotation</th>\n",
       "    </tr>\n",
       "  </thead>\n",
       "  <tbody>\n",
       "    <tr>\n",
       "      <th>0</th>\n",
       "      <td>0</td>\n",
       "      <td>100000497930502</td>\n",
       "      <td>Sorry to bother you but do you have the 270 te...</td>\n",
       "      <td>neutral</td>\n",
       "      <td>4001000</td>\n",
       "    </tr>\n",
       "    <tr>\n",
       "      <th>1</th>\n",
       "      <td>0</td>\n",
       "      <td>100000222851837</td>\n",
       "      <td>What's it called</td>\n",
       "      <td>neutral</td>\n",
       "      <td>4000010</td>\n",
       "    </tr>\n",
       "    <tr>\n",
       "      <th>2</th>\n",
       "      <td>0</td>\n",
       "      <td>100000497930502</td>\n",
       "      <td>Digital design and principles I think</td>\n",
       "      <td>neutral</td>\n",
       "      <td>5000000</td>\n",
       "    </tr>\n",
       "    <tr>\n",
       "      <th>3</th>\n",
       "      <td>0</td>\n",
       "      <td>100000222851837</td>\n",
       "      <td>I don't think so?</td>\n",
       "      <td>neutral</td>\n",
       "      <td>3000020</td>\n",
       "    </tr>\n",
       "    <tr>\n",
       "      <th>4</th>\n",
       "      <td>0</td>\n",
       "      <td>100000222851837</td>\n",
       "      <td>I could be wrong</td>\n",
       "      <td>neutral</td>\n",
       "      <td>5000000</td>\n",
       "    </tr>\n",
       "  </tbody>\n",
       "</table>\n",
       "</div>"
      ],
      "text/plain": [
       "  conv_id          speaker                                          utterance  \\\n",
       "0       0  100000497930502  Sorry to bother you but do you have the 270 te...   \n",
       "1       0  100000222851837                                   What's it called   \n",
       "2       0  100000497930502              Digital design and principles I think   \n",
       "3       0  100000222851837                                  I don't think so?   \n",
       "4       0  100000222851837                                   I could be wrong   \n",
       "\n",
       "   emotion annotation  \n",
       "0  neutral    4001000  \n",
       "1  neutral    4000010  \n",
       "2  neutral    5000000  \n",
       "3  neutral    3000020  \n",
       "4  neutral    5000000  "
      ]
     },
     "execution_count": 7,
     "metadata": {},
     "output_type": "execute_result"
    }
   ],
   "source": [
    "df.head()"
   ]
  },
  {
   "cell_type": "markdown",
   "metadata": {},
   "source": [
    "### Emotions in the corpus"
   ]
  },
  {
   "cell_type": "code",
   "execution_count": 8,
   "metadata": {},
   "outputs": [
    {
     "data": {
      "text/plain": [
       "['neutral',\n",
       " 'non-neutral',\n",
       " 'disgust',\n",
       " 'surprise',\n",
       " 'joy',\n",
       " 'sadness',\n",
       " 'fear',\n",
       " 'anger']"
      ]
     },
     "execution_count": 8,
     "metadata": {},
     "output_type": "execute_result"
    }
   ],
   "source": [
    "emotions"
   ]
  },
  {
   "cell_type": "markdown",
   "metadata": {},
   "source": [
    "### Dictionary with sentences per emotion"
   ]
  },
  {
   "cell_type": "code",
   "execution_count": 9,
   "metadata": {},
   "outputs": [
    {
     "data": {
      "text/plain": [
       "['Sorry to bother you but do you have the 270 textbook?',\n",
       " \"What's it called\",\n",
       " 'Digital design and principles I think',\n",
       " \"I don't think so?\",\n",
       " 'I could be wrong']"
      ]
     },
     "execution_count": 9,
     "metadata": {},
     "output_type": "execute_result"
    }
   ],
   "source": [
    "def split_corpus_by_emotion(emotions, dataframe):\n",
    "    emotions_corpus_dict = {}\n",
    "\n",
    "    for emotion in emotions:\n",
    "        emotions_corpus_dict[emotion] = []\n",
    "\n",
    "        # only select portion of the corpus correspondent to the specified emotion\n",
    "        emotion_df = dataframe[dataframe['emotion'] == emotion]\n",
    "        emotion_corpus = emotion_df['utterance'].values\n",
    "\n",
    "        for utterance in emotion_corpus:\n",
    "            emotions_corpus_dict[emotion].append(utterance.strip())\n",
    "            \n",
    "    return emotions_corpus_dict\n",
    "\n",
    "emotions_corpus_dict = split_corpus_by_emotion(emotions, df)\n",
    "emotions_corpus_dict_dev = split_corpus_by_emotion(emotions, df_dev)\n",
    "emotions_corpus_dict_test = split_corpus_by_emotion(emotions, df_test)\n",
    "        \n",
    "emotions_corpus_dict['neutral'][:5]"
   ]
  },
  {
   "cell_type": "markdown",
   "metadata": {},
   "source": [
    "### Balancing"
   ]
  },
  {
   "cell_type": "code",
   "execution_count": 16,
   "metadata": {},
   "outputs": [
    {
     "name": "stdout",
     "output_type": "stream",
     "text": [
      "Train set balancing \n",
      "\n",
      "7148\n",
      "1064\n",
      "85\n",
      "435\n",
      "1482\n",
      "389\n",
      "36\n",
      "94\n",
      "\n",
      "Train set percentage balancing\n",
      "0.6659834156340259\n",
      "0.09913351346315102\n",
      "0.00791950060560887\n",
      "0.040529208981645394\n",
      "0.13807882232367466\n",
      "0.03624336159508059\n",
      "0.0033541414329637566\n",
      "0.00875803596384981\n"
     ]
    }
   ],
   "source": [
    "total = 0\n",
    "\n",
    "print(\"Train set balancing \\n\")\n",
    "for emotion in emotions_corpus_dict:\n",
    "    print(len(emotions_corpus_dict[emotion]))\n",
    "    total += len(emotions_corpus_dict[emotion])\n",
    "\n",
    "print(\"\\nTrain set percentage balancing\")\n",
    "for emotion in emotions_corpus_dict:\n",
    "    print(len(emotions_corpus_dict[emotion])/total)"
   ]
  },
  {
   "cell_type": "code",
   "execution_count": 18,
   "metadata": {},
   "outputs": [
    {
     "name": "stdout",
     "output_type": "stream",
     "text": [
      "Dev set balancing \n",
      "\n",
      "825\n",
      "121\n",
      "6\n",
      "39\n",
      "160\n",
      "38\n",
      "4\n",
      "9\n",
      "\n",
      "Dev set percentage balancing\n",
      "0.6863560732113144\n",
      "0.10066555740432612\n",
      "0.004991680532445923\n",
      "0.0324459234608985\n",
      "0.13311148086522462\n",
      "0.03161397670549085\n",
      "0.0033277870216306157\n",
      "0.0074875207986688855\n"
     ]
    }
   ],
   "source": [
    "total = 0\n",
    "\n",
    "print(\"Dev set balancing \\n\")\n",
    "for emotion in emotions_corpus_dict_dev:\n",
    "    print(len(emotions_corpus_dict_dev[emotion]))\n",
    "    total += len(emotions_corpus_dict_dev[emotion])\n",
    "    \n",
    "print(\"\\nDev set percentage balancing\")\n",
    "for emotion in emotions_corpus_dict_dev:\n",
    "    print(len(emotions_corpus_dict_dev[emotion])/total)"
   ]
  },
  {
   "cell_type": "code",
   "execution_count": 20,
   "metadata": {},
   "outputs": [
    {
     "name": "stdout",
     "output_type": "stream",
     "text": [
      "Test set balancing \n",
      "\n",
      "1882\n",
      "233\n",
      "15\n",
      "93\n",
      "458\n",
      "87\n",
      "2\n",
      "37\n",
      "\n",
      "Test set percentage balancing\n",
      "0.6704666904168151\n",
      "0.08300676879230495\n",
      "0.005343783398646241\n",
      "0.033131457071606696\n",
      "0.16316351977199858\n",
      "0.0309939437121482\n",
      "0.0007125044531528322\n",
      "0.013181332383327396\n"
     ]
    }
   ],
   "source": [
    "total = 0\n",
    "\n",
    "print(\"Test set balancing \\n\")\n",
    "for emotion in emotions_corpus_dict_test:\n",
    "    print(len(emotions_corpus_dict_test[emotion]))\n",
    "    total += len(emotions_corpus_dict_test[emotion])\n",
    "    \n",
    "print(\"\\nTest set percentage balancing\")\n",
    "for emotion in emotions_corpus_dict_test:\n",
    "    print(len(emotions_corpus_dict_test[emotion])/total)"
   ]
  },
  {
   "cell_type": "code",
   "execution_count": 21,
   "metadata": {},
   "outputs": [
    {
     "data": {
      "text/plain": [
       "['neutral',\n",
       " 'non-neutral',\n",
       " 'disgust',\n",
       " 'surprise',\n",
       " 'joy',\n",
       " 'sadness',\n",
       " 'fear',\n",
       " 'anger']"
      ]
     },
     "execution_count": 21,
     "metadata": {},
     "output_type": "execute_result"
    }
   ],
   "source": [
    "emotions"
   ]
  },
  {
   "cell_type": "code",
   "execution_count": 52,
   "metadata": {},
   "outputs": [
    {
     "name": "stdout",
     "output_type": "stream",
     "text": [
      "[0 1 2 3 4 5 6 7]\n"
     ]
    },
    {
     "name": "stderr",
     "output_type": "stream",
     "text": [
      "/Users/isabeldias/Documents/Envs/thesis/lib/python3.7/site-packages/ipykernel_launcher.py:8: UserWarning: FixedFormatter should only be used together with FixedLocator\n",
      "  \n"
     ]
    },
    {
     "data": {
      "image/png": "[encoded data removed]",
      "text/plain": [
       "<Figure size 432x288 with 1 Axes>"
      ]
     },
     "metadata": {
      "needs_background": "light"
     },
     "output_type": "display_data"
    }
   ],
   "source": [
    "x = np.arange(len(emotions))\n",
    "print(x)\n",
    "\n",
    "ax = plt.subplot(111)\n",
    "ax.bar(x-0.2, [len(emotions_corpus_dict[emotion]) for emotion in emotions_corpus_dict], width=0.2, color='lightcoral', label='train')\n",
    "ax.bar(x, [len(emotions_corpus_dict_dev[emotion]) for emotion in emotions_corpus_dict], width=0.2, color='lightgreen', label='dev')\n",
    "ax.bar(x+0.2, [len(emotions_corpus_dict_test[emotion]) for emotion in emotions_corpus_dict], width=0.2, color='skyblue', label='test')\n",
    "ax.set_xticklabels(['0', 'neutral','non-neutral','disgust','surprise','joy','sadness','fear','anger'], rotation=45)\n",
    "ax.legend()\n",
    "\n",
    "plt.ylabel('Number of examples')\n",
    "plt.xlabel('Sentiments')\n",
    "\n",
    "plt.tight_layout()\n",
    "\n",
    "plt.savefig(\"balancing_emotionpush.jpeg\", dpi=300)"
   ]
  },
  {
   "cell_type": "code",
   "execution_count": 11,
   "metadata": {},
   "outputs": [
    {
     "data": {
      "image/png": "[encoded data removed]",
      "text/plain": [
       "<Figure size 432x288 with 1 Axes>"
      ]
     },
     "metadata": {
      "needs_background": "light"
     },
     "output_type": "display_data"
    }
   ],
   "source": [
    "plt.bar(emotions, [len(emotions_corpus_dict[emotion]) for emotion in emotions_corpus_dict])\n",
    "plt.xticks(rotation=45)\n",
    "plt.title(\"Balancing - number of sentences per sentiment\")\n",
    "plt.xlabel(\"Sentiment\")\n",
    "plt.ylabel(\"Number of sentences\")\n",
    "plt.savefig(\"balancing_emotionpush.jpeg\", dpi=300)"
   ]
  },
  {
   "cell_type": "markdown",
   "metadata": {},
   "source": [
    "### Remove Contractions"
   ]
  },
  {
   "cell_type": "code",
   "execution_count": 10,
   "metadata": {},
   "outputs": [
    {
     "name": "stderr",
     "output_type": "stream",
     "text": [
      "  0%|                                                                                                                                                  | 0/8 [00:00<?, ?it/s]At least one of the documents had no words that were in the vocabulary.\n",
      "At least one of the documents had no words that were in the vocabulary.\n",
      "At least one of the documents had no words that were in the vocabulary.\n",
      "At least one of the documents had no words that were in the vocabulary.\n",
      "At least one of the documents had no words that were in the vocabulary.\n",
      "At least one of the documents had no words that were in the vocabulary.\n",
      "At least one of the documents had no words that were in the vocabulary.\n",
      "At least one of the documents had no words that were in the vocabulary.\n",
      "At least one of the documents had no words that were in the vocabulary.\n",
      "At least one of the documents had no words that were in the vocabulary.\n",
      "At least one of the documents had no words that were in the vocabulary.\n",
      "At least one of the documents had no words that were in the vocabulary.\n",
      "At least one of the documents had no words that were in the vocabulary.\n",
      "At least one of the documents had no words that were in the vocabulary.\n",
      "At least one of the documents had no words that were in the vocabulary.\n",
      "At least one of the documents had no words that were in the vocabulary.\n",
      "At least one of the documents had no words that were in the vocabulary.\n",
      "At least one of the documents had no words that were in the vocabulary.\n",
      "At least one of the documents had no words that were in the vocabulary.\n",
      "At least one of the documents had no words that were in the vocabulary.\n",
      "At least one of the documents had no words that were in the vocabulary.\n",
      "At least one of the documents had no words that were in the vocabulary.\n",
      "At least one of the documents had no words that were in the vocabulary.\n",
      "At least one of the documents had no words that were in the vocabulary.\n",
      "At least one of the documents had no words that were in the vocabulary.\n",
      "At least one of the documents had no words that were in the vocabulary.\n",
      "At least one of the documents had no words that were in the vocabulary.\n",
      "At least one of the documents had no words that were in the vocabulary.\n",
      "At least one of the documents had no words that were in the vocabulary.\n",
      " 12%|█████████████████▏                                                                                                                       | 1/8 [03:52<27:05, 232.27s/it]At least one of the documents had no words that were in the vocabulary.\n",
      "At least one of the documents had no words that were in the vocabulary.\n",
      "At least one of the documents had no words that were in the vocabulary.\n",
      "At least one of the documents had no words that were in the vocabulary.\n",
      "At least one of the documents had no words that were in the vocabulary.\n",
      "At least one of the documents had no words that were in the vocabulary.\n",
      "At least one of the documents had no words that were in the vocabulary.\n",
      "At least one of the documents had no words that were in the vocabulary.\n",
      " 38%|███████████████████████████████████████████████████▊                                                                                      | 3/8 [04:01<04:35, 55.15s/it]At least one of the documents had no words that were in the vocabulary.\n",
      "At least one of the documents had no words that were in the vocabulary.\n",
      "At least one of the documents had no words that were in the vocabulary.\n",
      "At least one of the documents had no words that were in the vocabulary.\n",
      "At least one of the documents had no words that were in the vocabulary.\n",
      "At least one of the documents had no words that were in the vocabulary.\n",
      "At least one of the documents had no words that were in the vocabulary.\n",
      "At least one of the documents had no words that were in the vocabulary.\n",
      "At least one of the documents had no words that were in the vocabulary.\n",
      "At least one of the documents had no words that were in the vocabulary.\n",
      "At least one of the documents had no words that were in the vocabulary.\n",
      "At least one of the documents had no words that were in the vocabulary.\n",
      "At least one of the documents had no words that were in the vocabulary.\n",
      " 50%|█████████████████████████████████████████████████████████████████████                                                                     | 4/8 [04:03<02:16, 34.24s/it]At least one of the documents had no words that were in the vocabulary.\n",
      "At least one of the documents had no words that were in the vocabulary.\n",
      "At least one of the documents had no words that were in the vocabulary.\n",
      "At least one of the documents had no words that were in the vocabulary.\n",
      "At least one of the documents had no words that were in the vocabulary.\n",
      "At least one of the documents had no words that were in the vocabulary.\n",
      "At least one of the documents had no words that were in the vocabulary.\n",
      "At least one of the documents had no words that were in the vocabulary.\n",
      "At least one of the documents had no words that were in the vocabulary.\n",
      "At least one of the documents had no words that were in the vocabulary.\n",
      " 62%|██████████████████████████████████████████████████████████████████████████████████████▎                                                   | 5/8 [04:13<01:15, 25.23s/it]At least one of the documents had no words that were in the vocabulary.\n",
      "At least one of the documents had no words that were in the vocabulary.\n",
      "100%|██████████████████████████████████████████████████████████████████████████████████████████████████████████████████████████████████████████| 8/8 [04:16<00:00, 32.02s/it]\n"
     ]
    }
   ],
   "source": [
    "import warnings\n",
    "warnings.filterwarnings('ignore')\n",
    "\n",
    "for emotion in tqdm(emotions):\n",
    "    emotion_sentences = emotions_corpus_dict[emotion]\n",
    "    \n",
    "    emotions_corpus_dict[emotion] = list(cont.expand_texts(emotion_sentences))"
   ]
  },
  {
   "cell_type": "code",
   "execution_count": 11,
   "metadata": {},
   "outputs": [
    {
     "data": {
      "text/plain": [
       "['Sorry to bother you but do you have the 270 textbook?',\n",
       " 'what is it called',\n",
       " 'Digital design and principles I think',\n",
       " 'I do not think so?',\n",
       " 'I could be wrong']"
      ]
     },
     "execution_count": 11,
     "metadata": {},
     "output_type": "execute_result"
    }
   ],
   "source": [
    "emotions_corpus_dict['neutral'][:5]"
   ]
  },
  {
   "cell_type": "markdown",
   "metadata": {},
   "source": [
    "### Simple Term Frequency"
   ]
  },
  {
   "cell_type": "code",
   "execution_count": 16,
   "metadata": {},
   "outputs": [
    {
     "name": "stderr",
     "output_type": "stream",
     "text": [
      "emotion: 100%|█████████████████████████████████████████████████████████████████████████████████████████████████████████████████████████████████| 8/8 [00:04<00:00,  1.63it/s]\n"
     ]
    }
   ],
   "source": [
    "vectorizer = CountVectorizer(analyzer='word', ngram_range=(1,3), stop_words='english')\n",
    "\n",
    "vocabulary_tf_sorted = {}\n",
    "\n",
    "for emotion in tqdm(emotions, desc=\"emotion\"):\n",
    "    # returns document x term matrix\n",
    "    X = vectorizer.fit_transform(emotions_corpus_dict[emotion])\n",
    "    \n",
    "    tf_corpus = []\n",
    "    \n",
    "    term_doc_matrix = X.T\n",
    "    \n",
    "    for term_count in term_doc_matrix:\n",
    "        tf_corpus.append(np.sum(term_count))\n",
    "      \n",
    "    vocabulary_tf = zip(vectorizer.get_feature_names(), tf_corpus)\n",
    "    \n",
    "    vocabulary_tf_reduced = [(word, tf) for (word, tf) in vocabulary_tf]# if tf > 2]\n",
    "    \n",
    "    vocabulary_tf_sorted[emotion] = sorted(vocabulary_tf_reduced, key = lambda x: x[1], reverse=True)"
   ]
  },
  {
   "cell_type": "markdown",
   "metadata": {},
   "source": [
    "#### Create file"
   ]
  },
  {
   "cell_type": "code",
   "execution_count": 17,
   "metadata": {},
   "outputs": [],
   "source": [
    "representative_words_file = {}\n",
    "\n",
    "for emotion in vocabulary_tf_sorted:\n",
    "    representative_words_file[emotion] = []\n",
    "    \n",
    "    representative_words = vocabulary_tf_sorted[emotion][:40]\n",
    "    for word in representative_words:\n",
    "        representative_words_file[emotion].append(word[0])\n",
    "        \n",
    "with open(os.path.join(save_location, f\"TF_2_3.json\"), 'w') as outfile:\n",
    "    json.dump(representative_words_file, outfile)"
   ]
  },
  {
   "cell_type": "code",
   "execution_count": 27,
   "metadata": {},
   "outputs": [
    {
     "data": {
      "text/plain": [
       "[['just', 'like', 'oh', 'scared']]"
      ]
     },
     "execution_count": 27,
     "metadata": {},
     "output_type": "execute_result"
    }
   ],
   "source": [
    "lexical_overlap_file = {}\n",
    "count_limit = 3\n",
    "\n",
    "for emotion in vocabulary_tf_sorted:\n",
    "    lexical_overlap_file[emotion] = []\n",
    "    \n",
    "    representative_words = [word for (word, count) in vocabulary_tf_sorted[emotion] if count > count_limit]\n",
    "    lexical_overlap_file[emotion].append(representative_words)\n",
    "    \n",
    "lexical_overlap_file['fear']"
   ]
  },
  {
   "cell_type": "markdown",
   "metadata": {},
   "source": [
    "### Most relevant words per sentiment but removing common words between sentiments."
   ]
  },
  {
   "cell_type": "code",
   "execution_count": 15,
   "metadata": {},
   "outputs": [
    {
     "name": "stderr",
     "output_type": "stream",
     "text": [
      "emotion: 0it [00:00, ?it/s]\n",
      "8it [00:00, 24314.81it/s]\n",
      "\n",
      "8it [00:00, 17233.91it/s]\n",
      "emotion: 2it [00:00,  8.13it/s]\n",
      "8it [00:00, 24018.92it/s]\n",
      "emotion: 3it [00:00,  6.67it/s]\n",
      "8it [00:00, 24836.74it/s]\n",
      "emotion: 4it [00:00,  6.06it/s]\n",
      "8it [00:00, 24690.53it/s]\n",
      "emotion: 5it [00:00,  6.01it/s]\n",
      "8it [00:00, 22399.49it/s]\n",
      "emotion: 6it [00:00,  6.67it/s]\n",
      "8it [00:00, 25003.30it/s]\n",
      "emotion: 7it [00:01,  6.02it/s]\n",
      "8it [00:00, 20610.83it/s]\n",
      "emotion: 8it [00:01,  6.11it/s]\n"
     ]
    }
   ],
   "source": [
    "# main_list = np.setdiff1d(list_2,list_1)\n",
    "# yields the elements in `list_2` that are NOT in `list_1`\n",
    "unique_words_per_sentiment = {}\n",
    "\n",
    "for i, emotion1 in tqdm(enumerate(vocabulary_tf_sorted), desc=\"emotion\"):\n",
    "    list_emotion1 = [word for (word, tf) in vocabulary_tf_sorted[emotion1][:50]]\n",
    "    list_emotions = []\n",
    "    \n",
    "    for j, emotion2 in tqdm(enumerate(vocabulary_tf_sorted)):\n",
    "        if emotion1 == emotion2: continue\n",
    "\n",
    "        list_emotions.extend(vocabulary_tf_sorted[emotion2])\n",
    "        \n",
    "    unique_words_per_sentiment[emotion1] = list(np.setdiff1d(list_emotion1, list_emotions))\n",
    "\n",
    "    \n",
    "with open(os.path.join(save_location, f\"bad_words.json\"), 'w') as outfile:\n",
    "    json.dump(unique_words_per_sentiment, outfile)"
   ]
  },
  {
   "cell_type": "markdown",
   "metadata": {},
   "source": [
    "### TF-IDF\n",
    "\n",
    "**Idea**: The sentences of a single sentiment will belong to a unique document. We will rank each token of the document when compared to the full corpus.\n",
    "\n",
    "**Note**: Each document will be a string with all sentences belonging to a single sentiment. "
   ]
  },
  {
   "cell_type": "code",
   "execution_count": 28,
   "metadata": {},
   "outputs": [
    {
     "name": "stderr",
     "output_type": "stream",
     "text": [
      "emotion:   0%|          | 0/8 [00:00<?, ?it/s]\n",
      "sentence: 100%|██████████| 7148/7148 [00:00<00:00, 403163.96it/s]\n",
      "\n",
      "sentence: 100%|██████████| 1064/1064 [00:00<00:00, 395703.09it/s]\n",
      "\n",
      "sentence: 100%|██████████| 85/85 [00:00<00:00, 294154.98it/s]\n",
      "\n",
      "sentence: 100%|██████████| 435/435 [00:00<00:00, 329039.18it/s]\n",
      "\n",
      "sentence: 100%|██████████| 1482/1482 [00:00<00:00, 304629.19it/s]\n",
      "\n",
      "sentence: 100%|██████████| 389/389 [00:00<00:00, 186296.44it/s]\n",
      "\n",
      "sentence: 100%|██████████| 36/36 [00:00<00:00, 91623.15it/s]\n",
      "\n",
      "sentence: 100%|██████████| 94/94 [00:00<00:00, 135253.71it/s]\n",
      "emotion: 100%|██████████| 8/8 [00:00<00:00, 110.37it/s]\n"
     ]
    }
   ],
   "source": [
    "corpus_by_emotion = []\n",
    "\n",
    "for emotion in tqdm(emotions, desc=\"emotion\"): \n",
    "    corpus = \"\"\n",
    "    \n",
    "    # select examples of the corpus that are labelled with the specific sentiment \n",
    "    emotion_df = df[df['emotion'] == emotion]\n",
    "    emotion_corpus = emotion_df['utterance'].values\n",
    "    \n",
    "    # preprocessing + building string corpus\n",
    "    for sentence in tqdm(emotion_corpus, desc=\"sentence\"):\n",
    "        corpus += data_analysis.preprocessing(sentence, lower=True, punct=True) + \" \"\n",
    "        \n",
    "    corpus_by_emotion.append(corpus)"
   ]
  },
  {
   "cell_type": "code",
   "execution_count": 30,
   "metadata": {},
   "outputs": [],
   "source": [
    "tfidf_vectorizer = TfidfVectorizer(ngram_range=(1,2), analyzer=\"word\", sublinear_tf=True)\n",
    "\n",
    "tfidf_vectorspace = tfidf_vectorizer.fit_transform(corpus_by_emotion)"
   ]
  },
  {
   "cell_type": "code",
   "execution_count": 31,
   "metadata": {},
   "outputs": [
    {
     "data": {
      "text/plain": [
       "(8, 46174)"
      ]
     },
     "execution_count": 31,
     "metadata": {},
     "output_type": "execute_result"
    }
   ],
   "source": [
    "# matrix: emotion x tokens\n",
    "tfidf_vectorspace.shape"
   ]
  },
  {
   "cell_type": "code",
   "execution_count": 34,
   "metadata": {},
   "outputs": [
    {
     "name": "stderr",
     "output_type": "stream",
     "text": [
      "3it [00:00, 26.23it/s]"
     ]
    },
    {
     "name": "stdout",
     "output_type": "stream",
     "text": [
      "['01' '01 01' '01 ok' ... 'zzz okay' '烤肉ed' '烤肉ed in']\n"
     ]
    },
    {
     "name": "stderr",
     "output_type": "stream",
     "text": [
      "8it [00:00, 26.55it/s]\n"
     ]
    }
   ],
   "source": [
    "lexical_overlap_file = {}\n",
    "count_limit = 3\n",
    "\n",
    "feature_array = np.array(tfidf_vectorizer.get_feature_names())\n",
    "print(feature_array)\n",
    "\n",
    "for i, tfidf_scores in tqdm(enumerate(tfidf_vectorspace)):\n",
    "    tfidf_sorting = np.argsort(tfidf_scores.toarray()).flatten()[::-1]\n",
    "    top_n = feature_array[tfidf_sorting]\n",
    "    \n",
    "    lexical_overlap_file[emotions[i]] = list(top_n)  \n",
    "    \n",
    "#lexical_overlap_file['fear']"
   ]
  },
  {
   "cell_type": "markdown",
   "metadata": {},
   "source": [
    "From this vectorspace we want to find the top n most relevant tokens per sentiment, i.e., sort each line in the vectorspace and retrieve the top n."
   ]
  },
  {
   "cell_type": "code",
   "execution_count": 35,
   "metadata": {},
   "outputs": [
    {
     "name": "stderr",
     "output_type": "stream",
     "text": [
      "8it [00:00, 55.19it/s]\n"
     ]
    }
   ],
   "source": [
    "emotions_lexicon = {}\n",
    "\n",
    "n = 40\n",
    "\n",
    "feature_array = np.array(tfidf_vectorizer.get_feature_names())\n",
    "\n",
    "for i, tfidf_scores in tqdm(enumerate(tfidf_vectorspace)):\n",
    "    tfidf_sorting = np.argsort(tfidf_scores.toarray()).flatten()[::-1]\n",
    "    top_n = feature_array[tfidf_sorting][:n]\n",
    "    \n",
    "    emotions_lexicon[emotions[i]] = list(top_n)    "
   ]
  },
  {
   "cell_type": "code",
   "execution_count": 36,
   "metadata": {},
   "outputs": [],
   "source": [
    "with open(os.path.join(save_location, f\"TF_IDF_2_3.json\"), 'w') as outfile:\n",
    "    json.dump(emotions_lexicon, outfile)"
   ]
  },
  {
   "cell_type": "code",
   "execution_count": null,
   "metadata": {},
   "outputs": [],
   "source": []
  },
  {
   "cell_type": "code",
   "execution_count": null,
   "metadata": {},
   "outputs": [],
   "source": []
  }
 ],
 "metadata": {
  "kernelspec": {
   "display_name": "thesis",
   "language": "python",
   "name": "thesis"
  },
  "language_info": {
   "codemirror_mode": {
    "name": "ipython",
    "version": 3
   },
   "file_extension": ".py",
   "mimetype": "text/x-python",
   "name": "python",
   "nbconvert_exporter": "python",
   "pygments_lexer": "ipython3",
   "version": "3.7.11"
  }
 },
 "nbformat": 4,
 "nbformat_minor": 4
}
