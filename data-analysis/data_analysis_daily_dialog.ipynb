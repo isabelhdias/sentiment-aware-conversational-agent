{
 "cells": [
  {
   "cell_type": "markdown",
   "id": "assured-membrane",
   "metadata": {},
   "source": [
    "# Data Analysis\n",
    "## DailyDialog\n",
    "DailyDialog dataset data exploration to retrieve sentiment lexicon and dataset creation. \n",
    "\n",
    "@input: text file (txt) \n",
    "    each line is a conversation. sentences are separated by \"__eou__\" tokens\n",
    "    \n",
    "@output: json file\n",
    "    attributes: conv_id, utterance, emotion"
   ]
  },
  {
   "cell_type": "code",
   "execution_count": 1,
   "id": "joined-rebound",
   "metadata": {},
   "outputs": [],
   "source": [
    "import data_analysis as data_analysis\n",
    "\n",
    "import matplotlib.pyplot as plt \n",
    "import numpy as np\n",
    "import pandas as pd\n",
    "\n",
    "from sklearn.feature_extraction.text import CountVectorizer\n",
    "from sklearn.feature_extraction.text import TfidfVectorizer\n",
    "from tqdm import tqdm"
   ]
  },
  {
   "cell_type": "code",
   "execution_count": 2,
   "id": "falling-virus",
   "metadata": {},
   "outputs": [],
   "source": [
    "data_location = \"../data/dailydialog/train/dialogues_train.txt\"\n",
    "labels_location = \"../data/dailydialog/train/dialogues_emotion_train.txt\"\n",
    "\n",
    "data_location_dev = \"../data/dailydialog/validation/dialogues_validation.txt\"\n",
    "labels_location_dev = \"../data/dailydialog/validation/dialogues_emotion_validation.txt\"\n",
    "\n",
    "data_location_test = \"../data/dailydialog/test/dialogues_test.txt\"\n",
    "labels_location_test = \"../data/dailydialog/test/dialogues_emotion_test.txt\""
   ]
  },
  {
   "cell_type": "code",
   "execution_count": 3,
   "id": "coastal-brand",
   "metadata": {},
   "outputs": [
    {
     "name": "stderr",
     "output_type": "stream",
     "text": [
      "conversation: 11118it [06:42, 27.60it/s]\n"
     ]
    }
   ],
   "source": [
    "data_txt = open(data_location, \"r\")\n",
    "labels_txt = open(labels_location, \"r\")\n",
    "\n",
    "df = data_analysis.text2dataframe_daily_dialog(data_txt, labels_txt)"
   ]
  },
  {
   "cell_type": "code",
   "execution_count": 4,
   "id": "57775815",
   "metadata": {},
   "outputs": [
    {
     "name": "stderr",
     "output_type": "stream",
     "text": [
      "conversation: 1000it [00:22, 44.04it/s]\n"
     ]
    }
   ],
   "source": [
    "data_txt_dev = open(data_location_dev, \"r\")\n",
    "labels_txt_dev = open(labels_location_dev, \"r\")\n",
    "\n",
    "df_dev = data_analysis.text2dataframe_daily_dialog(data_txt_dev, labels_txt_dev)"
   ]
  },
  {
   "cell_type": "code",
   "execution_count": 5,
   "id": "a83c0eb1",
   "metadata": {},
   "outputs": [
    {
     "name": "stderr",
     "output_type": "stream",
     "text": [
      "conversation: 1000it [00:20, 49.08it/s]\n"
     ]
    }
   ],
   "source": [
    "data_txt_test = open(data_location_test, \"r\")\n",
    "labels_txt_test = open(labels_location_test, \"r\")\n",
    "\n",
    "df_test = data_analysis.text2dataframe_daily_dialog(data_txt_test, labels_txt_test)"
   ]
  },
  {
   "cell_type": "code",
   "execution_count": 6,
   "id": "material-evanescence",
   "metadata": {},
   "outputs": [
    {
     "data": {
      "text/html": [
       "<div>\n",
       "<style scoped>\n",
       "    .dataframe tbody tr th:only-of-type {\n",
       "        vertical-align: middle;\n",
       "    }\n",
       "\n",
       "    .dataframe tbody tr th {\n",
       "        vertical-align: top;\n",
       "    }\n",
       "\n",
       "    .dataframe thead th {\n",
       "        text-align: right;\n",
       "    }\n",
       "</style>\n",
       "<table border=\"1\" class=\"dataframe\">\n",
       "  <thead>\n",
       "    <tr style=\"text-align: right;\">\n",
       "      <th></th>\n",
       "      <th>conv_id</th>\n",
       "      <th>utterance</th>\n",
       "      <th>emotion</th>\n",
       "    </tr>\n",
       "  </thead>\n",
       "  <tbody>\n",
       "    <tr>\n",
       "      <th>0</th>\n",
       "      <td>0</td>\n",
       "      <td>Say , Jim , how about going for a few beers af...</td>\n",
       "      <td>0</td>\n",
       "    </tr>\n",
       "    <tr>\n",
       "      <th>1</th>\n",
       "      <td>0</td>\n",
       "      <td>You know that is tempting but is really not g...</td>\n",
       "      <td>0</td>\n",
       "    </tr>\n",
       "    <tr>\n",
       "      <th>2</th>\n",
       "      <td>0</td>\n",
       "      <td>What do you mean ? It will help us to relax .</td>\n",
       "      <td>0</td>\n",
       "    </tr>\n",
       "    <tr>\n",
       "      <th>3</th>\n",
       "      <td>0</td>\n",
       "      <td>Do you really think so ? I don't . It will ju...</td>\n",
       "      <td>0</td>\n",
       "    </tr>\n",
       "    <tr>\n",
       "      <th>4</th>\n",
       "      <td>0</td>\n",
       "      <td>I guess you are right.But what shall we do ? ...</td>\n",
       "      <td>0</td>\n",
       "    </tr>\n",
       "  </tbody>\n",
       "</table>\n",
       "</div>"
      ],
      "text/plain": [
       "  conv_id                                          utterance emotion\n",
       "0       0  Say , Jim , how about going for a few beers af...       0\n",
       "1       0   You know that is tempting but is really not g...       0\n",
       "2       0     What do you mean ? It will help us to relax .        0\n",
       "3       0   Do you really think so ? I don't . It will ju...       0\n",
       "4       0   I guess you are right.But what shall we do ? ...       0"
      ]
     },
     "execution_count": 6,
     "metadata": {},
     "output_type": "execute_result"
    }
   ],
   "source": [
    "df.head()"
   ]
  },
  {
   "cell_type": "code",
   "execution_count": 9,
   "id": "aa3345ca",
   "metadata": {},
   "outputs": [
    {
     "name": "stdout",
     "output_type": "stream",
     "text": [
      "<class 'pandas.core.frame.DataFrame'>\n",
      "RangeIndex: 87170 entries, 0 to 87169\n",
      "Data columns (total 3 columns):\n",
      " #   Column     Non-Null Count  Dtype \n",
      "---  ------     --------------  ----- \n",
      " 0   conv_id    87170 non-null  object\n",
      " 1   utterance  87170 non-null  object\n",
      " 2   emotion    87170 non-null  object\n",
      "dtypes: object(3)\n",
      "memory usage: 2.0+ MB\n"
     ]
    },
    {
     "data": {
      "text/plain": [
       "11118"
      ]
     },
     "execution_count": 9,
     "metadata": {},
     "output_type": "execute_result"
    }
   ],
   "source": [
    "df.info()\n",
    "\n",
    "df['conv_id'].nunique()"
   ]
  },
  {
   "cell_type": "code",
   "execution_count": 10,
   "id": "794f5bdf",
   "metadata": {},
   "outputs": [
    {
     "name": "stdout",
     "output_type": "stream",
     "text": [
      "<class 'pandas.core.frame.DataFrame'>\n",
      "RangeIndex: 8069 entries, 0 to 8068\n",
      "Data columns (total 3 columns):\n",
      " #   Column     Non-Null Count  Dtype \n",
      "---  ------     --------------  ----- \n",
      " 0   conv_id    8069 non-null   object\n",
      " 1   utterance  8069 non-null   object\n",
      " 2   emotion    8069 non-null   object\n",
      "dtypes: object(3)\n",
      "memory usage: 189.2+ KB\n"
     ]
    },
    {
     "data": {
      "text/plain": [
       "1000"
      ]
     },
     "execution_count": 10,
     "metadata": {},
     "output_type": "execute_result"
    }
   ],
   "source": [
    "df_dev.info()\n",
    "\n",
    "df_dev['conv_id'].nunique()"
   ]
  },
  {
   "cell_type": "code",
   "execution_count": 11,
   "id": "d4b93eb5",
   "metadata": {},
   "outputs": [
    {
     "name": "stdout",
     "output_type": "stream",
     "text": [
      "<class 'pandas.core.frame.DataFrame'>\n",
      "RangeIndex: 7740 entries, 0 to 7739\n",
      "Data columns (total 3 columns):\n",
      " #   Column     Non-Null Count  Dtype \n",
      "---  ------     --------------  ----- \n",
      " 0   conv_id    7740 non-null   object\n",
      " 1   utterance  7740 non-null   object\n",
      " 2   emotion    7740 non-null   object\n",
      "dtypes: object(3)\n",
      "memory usage: 181.5+ KB\n"
     ]
    },
    {
     "data": {
      "text/plain": [
       "1000"
      ]
     },
     "execution_count": 11,
     "metadata": {},
     "output_type": "execute_result"
    }
   ],
   "source": [
    "df_test.info()\n",
    "\n",
    "df_test['conv_id'].nunique()"
   ]
  },
  {
   "cell_type": "code",
   "execution_count": 7,
   "id": "corrected-console",
   "metadata": {},
   "outputs": [
    {
     "data": {
      "text/plain": [
       "[0, 1, 2, 3, 4, 5, 6]"
      ]
     },
     "execution_count": 7,
     "metadata": {},
     "output_type": "execute_result"
    }
   ],
   "source": [
    "emotions = {'no emotion': 0, 'anger': 1, 'disgust': 2, 'fear': 3, 'happiness': 4, 'sadness': 5, 'surprise': 6}\n",
    "list(emotions.values())"
   ]
  },
  {
   "cell_type": "code",
   "execution_count": 8,
   "id": "4f8efbe4",
   "metadata": {},
   "outputs": [
    {
     "data": {
      "text/plain": [
       "['Say , Jim , how about going for a few beers after dinner ?',\n",
       " 'You know that is tempting but is really not good for our fitness .',\n",
       " 'What do you mean ? It will help us to relax .',\n",
       " \"Do you really think so ? I don't . It will just make us fat and act silly . Remember last time ?\",\n",
       " \"I guess you are right.But what shall we do ? I don't feel like sitting at home .\"]"
      ]
     },
     "execution_count": 8,
     "metadata": {},
     "output_type": "execute_result"
    }
   ],
   "source": [
    "def split_corpus_by_emotion(emotions, dataframe):\n",
    "    emotions_corpus_dict = {}\n",
    "\n",
    "    for emotion in emotions:\n",
    "        emotions_corpus_dict[emotion] = []\n",
    "\n",
    "        # only select portion of the corpus correspondent to the specified emotion\n",
    "        emotion_df = dataframe[dataframe['emotion'] == str(emotion)]\n",
    "        emotion_corpus = emotion_df['utterance'].values\n",
    "\n",
    "        for utterance in emotion_corpus:\n",
    "            emotions_corpus_dict[emotion].append(utterance.strip())\n",
    "            \n",
    "    return emotions_corpus_dict\n",
    "\n",
    "emotions_corpus_dict = split_corpus_by_emotion(list(emotions.values()), df)\n",
    "emotions_corpus_dict_dev = split_corpus_by_emotion(list(emotions.values()), df_dev)\n",
    "emotions_corpus_dict_test = split_corpus_by_emotion(list(emotions.values()), df_test)\n",
    "        \n",
    "emotions_corpus_dict[0][:5]"
   ]
  },
  {
   "cell_type": "markdown",
   "id": "d2c3c901",
   "metadata": {},
   "source": [
    "### Balancing"
   ]
  },
  {
   "cell_type": "code",
   "execution_count": 9,
   "id": "f5418a08",
   "metadata": {},
   "outputs": [
    {
     "name": "stdout",
     "output_type": "stream",
     "text": [
      "Train set balancing \n",
      "\n",
      "72143\n",
      "827\n",
      "303\n",
      "146\n",
      "11182\n",
      "969\n",
      "1600\n",
      "\n",
      "Train set percentage balancing\n",
      "0.8276127107949983\n",
      "0.009487208902145234\n",
      "0.003475966502237008\n",
      "0.0016748881495927499\n",
      "0.12827807732017896\n",
      "0.011116209705173798\n",
      "0.01835493862567397\n"
     ]
    }
   ],
   "source": [
    "total = 0\n",
    "\n",
    "print(\"Train set balancing \\n\")\n",
    "for emotion in emotions_corpus_dict:\n",
    "    print(len(emotions_corpus_dict[emotion]))\n",
    "    total += len(emotions_corpus_dict[emotion])\n",
    "\n",
    "print(\"\\nTrain set percentage balancing\")\n",
    "for emotion in emotions_corpus_dict:\n",
    "    print(len(emotions_corpus_dict[emotion])/total)"
   ]
  },
  {
   "cell_type": "code",
   "execution_count": 10,
   "id": "61806bb2",
   "metadata": {},
   "outputs": [
    {
     "name": "stdout",
     "output_type": "stream",
     "text": [
      "Dev set balancing \n",
      "\n",
      "7108\n",
      "77\n",
      "3\n",
      "11\n",
      "684\n",
      "79\n",
      "107\n",
      "\n",
      "Dev set percentage balancing\n",
      "0.8809022183665882\n",
      "0.009542694261990333\n",
      "0.0003717932829346883\n",
      "0.0013632420374271904\n",
      "0.08476886850910893\n",
      "0.009790556450613459\n",
      "0.013260627091337216\n"
     ]
    }
   ],
   "source": [
    "total = 0\n",
    "\n",
    "print(\"Dev set balancing \\n\")\n",
    "for emotion in emotions_corpus_dict_dev:\n",
    "    print(len(emotions_corpus_dict_dev[emotion]))\n",
    "    total += len(emotions_corpus_dict_dev[emotion])\n",
    "    \n",
    "print(\"\\nDev set percentage balancing\")\n",
    "for emotion in emotions_corpus_dict_dev:\n",
    "    print(len(emotions_corpus_dict_dev[emotion])/total)"
   ]
  },
  {
   "cell_type": "code",
   "execution_count": 11,
   "id": "caa302b8",
   "metadata": {},
   "outputs": [
    {
     "name": "stdout",
     "output_type": "stream",
     "text": [
      "Test set balancing \n",
      "\n",
      "6321\n",
      "118\n",
      "47\n",
      "17\n",
      "1019\n",
      "102\n",
      "116\n",
      "\n",
      "Test set percentage balancing\n",
      "0.8166666666666667\n",
      "0.01524547803617571\n",
      "0.00607235142118863\n",
      "0.0021963824289405686\n",
      "0.13165374677002584\n",
      "0.01317829457364341\n",
      "0.014987080103359173\n"
     ]
    }
   ],
   "source": [
    "total = 0\n",
    "\n",
    "print(\"Test set balancing \\n\")\n",
    "for emotion in emotions_corpus_dict_test:\n",
    "    print(len(emotions_corpus_dict_test[emotion]))\n",
    "    total += len(emotions_corpus_dict_test[emotion])\n",
    "    \n",
    "print(\"\\nTest set percentage balancing\")\n",
    "for emotion in emotions_corpus_dict_test:\n",
    "    print(len(emotions_corpus_dict_test[emotion])/total)"
   ]
  },
  {
   "cell_type": "code",
   "execution_count": 24,
   "id": "55dedce4",
   "metadata": {},
   "outputs": [
    {
     "name": "stdout",
     "output_type": "stream",
     "text": [
      "[0 1 2 3 4 5 6]\n"
     ]
    },
    {
     "name": "stderr",
     "output_type": "stream",
     "text": [
      "/Users/isabeldias/Documents/Envs/thesis/lib/python3.7/site-packages/ipykernel_launcher.py:8: UserWarning: FixedFormatter should only be used together with FixedLocator\n",
      "  \n"
     ]
    },
    {
     "data": {
      "image/png": "[encoded data removed]",
      "text/plain": [
       "<Figure size 432x288 with 1 Axes>"
      ]
     },
     "metadata": {
      "needs_background": "light"
     },
     "output_type": "display_data"
    }
   ],
   "source": [
    "x = np.arange(len(emotions))\n",
    "print(x)\n",
    "\n",
    "ax = plt.subplot(111)\n",
    "ax.bar(x-0.2, [len(emotions_corpus_dict[emotion]) for emotion in emotions_corpus_dict], width=0.2, color='lightcoral', label='train')\n",
    "ax.bar(x, [len(emotions_corpus_dict_dev[emotion]) for emotion in emotions_corpus_dict], width=0.2, color='lightgreen', label='dev')\n",
    "ax.bar(x+0.2, [len(emotions_corpus_dict_test[emotion]) for emotion in emotions_corpus_dict], width=0.2, color='skyblue', label='test')\n",
    "ax.set_xticklabels(['0', 'no emotion','anger','disgust','fear','happiness','sadness','surprise'], rotation=45)\n",
    "ax.legend()\n",
    "\n",
    "plt.ylabel('Number of examples')\n",
    "plt.xlabel('Sentiments')\n",
    "\n",
    "plt.tight_layout()\n",
    "\n",
    "plt.savefig(\"balancing_dailydialog.jpeg\", dpi=300)"
   ]
  },
  {
   "cell_type": "markdown",
   "id": "convenient-cheese",
   "metadata": {},
   "source": [
    "### Simple Term Frequency"
   ]
  },
  {
   "cell_type": "code",
   "execution_count": 9,
   "id": "celtic-italy",
   "metadata": {},
   "outputs": [
    {
     "name": "stderr",
     "output_type": "stream",
     "text": [
      "emotion: 100%|██████████| 7/7 [00:57<00:00,  8.18s/it]\n"
     ]
    }
   ],
   "source": [
    "vectorizer = CountVectorizer(analyzer='word', ngram_range=(1,3), stop_words='english')\n",
    "\n",
    "vocabulary_tf_sorted = {}\n",
    "\n",
    "for emotion in tqdm(emotions.values(), desc=\"emotion\"):\n",
    "    # returns document x term matrix\n",
    "    X = vectorizer.fit_transform(emotions_corpus_dict[emotion])\n",
    "    \n",
    "    tf_corpus = []\n",
    "    \n",
    "    term_doc_matrix = X.T\n",
    "    \n",
    "    for term_count in term_doc_matrix:\n",
    "        tf_corpus.append(np.sum(term_count))\n",
    "        \n",
    "    vocabulary_tf = zip(vectorizer.get_feature_names(), tf_corpus)\n",
    "    \n",
    "    vocabulary_tf_reduced = [(word, tf) for (word, tf) in vocabulary_tf if tf > 2]\n",
    "    \n",
    "    vocabulary_tf_sorted[emotion] = sorted(vocabulary_tf_reduced, key = lambda x: x[1], reverse=True)"
   ]
  },
  {
   "cell_type": "code",
   "execution_count": 10,
   "id": "desirable-biodiversity",
   "metadata": {},
   "outputs": [
    {
     "name": "stdout",
     "output_type": "stream",
     "text": [
      "0\n",
      "[('like', 5041), ('yes', 4616), ('don', 3957), ('think', 3493), ('ll', 3306), ('know', 3215), ('just', 3000), ('right', 2702), ('good', 2685), ('want', 2496)]\n",
      "---------------------------\n",
      "1\n",
      "[('don', 94), ('just', 71), ('ve', 63), ('really', 56), ('time', 52), ('like', 48), ('oh', 48), ('know', 45), ('didn', 43), ('want', 42)]\n",
      "---------------------------\n",
      "2\n",
      "[('don', 38), ('like', 33), ('think', 30), ('really', 28), ('hate', 25), ('just', 16), ('oh', 16), ('time', 15), ('people', 14), ('sick', 13)]\n",
      "---------------------------\n",
      "3\n",
      "[('just', 27), ('don', 15), ('scared', 14), ('know', 13), ('oh', 13), ('nervous', 9), ('think', 9), ('afraid', 8), ('didn', 8), ('don know', 7)]\n",
      "---------------------------\n",
      "4\n",
      "[('thank', 1245), ('good', 1187), ('like', 887), ('thanks', 834), ('great', 790), ('ll', 781), ('yes', 601), ('really', 574), ('oh', 453), ('nice', 442)]\n",
      "---------------------------\n",
      "5\n",
      "[('sorry', 302), ('oh', 87), ('know', 80), ('just', 76), ('really', 73), ('afraid', 70), ('don', 69), ('ve', 60), ('didn', 49), ('sir', 48)]\n",
      "---------------------------\n",
      "6\n",
      "[('really', 495), ('oh', 205), ('did', 89), ('kidding', 83), ('don', 76), ('believe', 71), ('know', 64), ('didn', 62), ('like', 57), ('ve', 57)]\n",
      "---------------------------\n"
     ]
    }
   ],
   "source": [
    "for emotion in vocabulary_tf_sorted:\n",
    "    print(emotion)\n",
    "    print(vocabulary_tf_sorted[emotion][:10])\n",
    "    print(\"---------------------------\")"
   ]
  },
  {
   "cell_type": "markdown",
   "id": "considered-carroll",
   "metadata": {},
   "source": [
    "### TF-IDF\n",
    "\n",
    "**Idea**: The sentences of a single sentiment will belong to a unique document. We will rank each token of the document when compared to the full corpus.\n",
    "\n",
    "**Note**: Each document will be a string with all sentences belonging to a single sentiment. "
   ]
  },
  {
   "cell_type": "code",
   "execution_count": 11,
   "id": "exposed-corporation",
   "metadata": {},
   "outputs": [
    {
     "name": "stderr",
     "output_type": "stream",
     "text": [
      "emotion:   0%|          | 0/7 [00:00<?, ?it/s]\n",
      "sentence:   0%|          | 0/72143 [00:00<?, ?it/s]\u001b[A\n",
      "sentence:  35%|███▍      | 25178/72143 [00:00<00:00, 251769.44it/s]\u001b[A\n",
      "sentence: 100%|██████████| 72143/72143 [00:00<00:00, 270914.85it/s]\u001b[A\n",
      "emotion:  14%|█▍        | 1/7 [00:00<00:01,  3.60it/s]\n",
      "sentence: 100%|██████████| 827/827 [00:00<00:00, 248277.82it/s]\n",
      "\n",
      "sentence: 100%|██████████| 303/303 [00:00<00:00, 237679.84it/s]\n",
      "\n",
      "sentence: 100%|██████████| 146/146 [00:00<00:00, 97201.33it/s]\n",
      "\n",
      "sentence: 100%|██████████| 11182/11182 [00:00<00:00, 239679.41it/s]\n",
      "\n",
      "sentence: 100%|██████████| 969/969 [00:00<00:00, 230545.16it/s]\n",
      "emotion:  86%|████████▌ | 6/7 [00:00<00:00, 18.66it/s]\n",
      "sentence: 100%|██████████| 1600/1600 [00:00<00:00, 249958.52it/s]\n",
      "emotion: 100%|██████████| 7/7 [00:00<00:00, 17.21it/s]\n"
     ]
    }
   ],
   "source": [
    "corpus_by_emotion = []\n",
    "\n",
    "for emotion in tqdm(emotions.values(), desc=\"emotion\"): \n",
    "    corpus = \"\"\n",
    "    \n",
    "    # select examples of the corpus that are labelled with the specific sentiment \n",
    "    emotion_df = df[df['emotion'] == str(emotion)]\n",
    "    emotion_corpus = emotion_df['utterance'].values\n",
    "    \n",
    "    # preprocessing + building string corpus\n",
    "    for sentence in tqdm(emotion_corpus, desc=\"sentence\"):\n",
    "        corpus += data_analysis.preprocessing(sentence, lower=True, punct=True) + \" \"\n",
    "        \n",
    "    corpus_by_emotion.append(corpus)"
   ]
  },
  {
   "cell_type": "code",
   "execution_count": 12,
   "id": "regulated-springer",
   "metadata": {},
   "outputs": [],
   "source": [
    "tfidf_vectorizer = TfidfVectorizer(ngram_range=(1,3), analyzer=\"word\", sublinear_tf=True)\n",
    "\n",
    "tfidf_vectorspace = tfidf_vectorizer.fit_transform(corpus_by_emotion)"
   ]
  },
  {
   "cell_type": "code",
   "execution_count": 13,
   "id": "crucial-celebration",
   "metadata": {},
   "outputs": [
    {
     "data": {
      "text/plain": [
       "(7, 801947)"
      ]
     },
     "execution_count": 13,
     "metadata": {},
     "output_type": "execute_result"
    }
   ],
   "source": [
    "# matrix: emotion x tokens\n",
    "tfidf_vectorspace.shape"
   ]
  },
  {
   "cell_type": "code",
   "execution_count": 17,
   "id": "secret-builder",
   "metadata": {},
   "outputs": [
    {
     "name": "stderr",
     "output_type": "stream",
     "text": [
      "1it [00:00,  9.48it/s]"
     ]
    },
    {
     "name": "stdout",
     "output_type": "stream",
     "text": [
      "[0, 1, 2, 3, 4, 5, 6]\n"
     ]
    },
    {
     "name": "stderr",
     "output_type": "stream",
     "text": [
      "7it [00:00, 10.06it/s]\n"
     ]
    }
   ],
   "source": [
    "emotions_lexicon = {}\n",
    "\n",
    "n = 10\n",
    "\n",
    "feature_array = np.array(tfidf_vectorizer.get_feature_names())\n",
    "\n",
    "emotions_values = list(emotions.values())\n",
    "\n",
    "for i, tfidf_scores in tqdm(enumerate(tfidf_vectorspace)):\n",
    "    tfidf_sorting = np.argsort(tfidf_scores.toarray()).flatten()[::-1]\n",
    "    top_n = feature_array[tfidf_sorting][:n]\n",
    "    \n",
    "    emotions_lexicon[emotions_values[i]] = top_n  "
   ]
  },
  {
   "cell_type": "code",
   "execution_count": 18,
   "id": "mounted-blair",
   "metadata": {},
   "outputs": [
    {
     "data": {
      "text/plain": [
       "{0: array(['help you yes', 'do for', 'do for you', 'can do for', 'may help',\n",
       "        'yes here', 'may help you', 'would you like', 'education',\n",
       "        'how about'], dtype='<U41'),\n",
       " 1: array(['damn', 'you', 'to', 'the', 'it', 'shut', 'shut up', 'damn it',\n",
       "        'that', 'oh shut'], dtype='<U41'),\n",
       " 2: array(['the', 'it', 'complete waste', 'complete waste of', 'to', 'you',\n",
       "        'waste of time', 'hate the', 'of', 'are terrible they'],\n",
       "       dtype='<U41'),\n",
       " 3: array(['can call the', 'scared', 'the', 'it finally just',\n",
       "        'finally just when', 'just stood there', 'imagining it finally',\n",
       "        'imagining it', 'imagining', 'just stood'], dtype='<U41'),\n",
       " 4: array(['thank you for', 'bye', 'sounds good', 'you thank you',\n",
       "        'you thank', 'that good idea', 'welcome', 'thank you so',\n",
       "        'sounds great', 'wonderful'], dtype='<U41'),\n",
       " 5: array(['sorry sir', 'to', 'lost my', 'sorry', 'am sorry', 'the',\n",
       "        'am awfully', 'am awfully sorry', 'sorry we', 'it'], dtype='<U41'),\n",
       " 6: array(['you re kidding', 're kidding', 'really really', 'kidding',\n",
       "        'really can believe', 'you', 'really why', 'really how',\n",
       "        'kidding really', 'really he'], dtype='<U41')}"
      ]
     },
     "execution_count": 18,
     "metadata": {},
     "output_type": "execute_result"
    }
   ],
   "source": [
    "emotions_lexicon"
   ]
  },
  {
   "cell_type": "code",
   "execution_count": null,
   "id": "unsigned-running",
   "metadata": {},
   "outputs": [],
   "source": []
  }
 ],
 "metadata": {
  "kernelspec": {
   "display_name": "thesis",
   "language": "python",
   "name": "thesis"
  },
  "language_info": {
   "codemirror_mode": {
    "name": "ipython",
    "version": 3
   },
   "file_extension": ".py",
   "mimetype": "text/x-python",
   "name": "python",
   "nbconvert_exporter": "python",
   "pygments_lexer": "ipython3",
   "version": "3.7.11"
  }
 },
 "nbformat": 4,
 "nbformat_minor": 5
}
