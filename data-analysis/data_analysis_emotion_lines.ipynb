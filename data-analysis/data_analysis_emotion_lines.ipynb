{
 "cells": [
  {
   "cell_type": "markdown",
   "id": "olympic-switch",
   "metadata": {},
   "source": [
    "# Data Analysis\n",
    "## Emotion Lines\n",
    "Emotion Lines dataset data exploration to retrieve sentiment lexicon and dataset creation. "
   ]
  },
  {
   "cell_type": "code",
   "execution_count": 1,
   "id": "dense-posting",
   "metadata": {},
   "outputs": [],
   "source": [
    "import data_analysis as data_analysis\n",
    "\n",
    "import matplotlib.pyplot as plt \n",
    "import numpy as np\n",
    "import pandas as pd\n",
    "\n",
    "from sklearn.feature_extraction.text import CountVectorizer\n",
    "from sklearn.feature_extraction.text import TfidfVectorizer\n",
    "from tqdm import tqdm"
   ]
  },
  {
   "cell_type": "code",
   "execution_count": 2,
   "id": "spread-interface",
   "metadata": {},
   "outputs": [],
   "source": [
    "data_location = \"../data/EmotionLines-Push/Friends/friends.json\"\n",
    "data_location_full = \"/Users/isabeldias/Documents/GitHub/thesis/data/EmotionLines-Push/Friends/friends.json\""
   ]
  },
  {
   "cell_type": "code",
   "execution_count": 4,
   "id": "amazing-looking",
   "metadata": {},
   "outputs": [],
   "source": [
    "data_dict = data_analysis.load_json(data_location)"
   ]
  },
  {
   "cell_type": "code",
   "execution_count": 5,
   "id": "entitled-barbados",
   "metadata": {},
   "outputs": [
    {
     "name": "stderr",
     "output_type": "stream",
     "text": [
      "conversation: 100%|██████████| 1000/1000 [00:55<00:00, 18.08it/s]\n"
     ]
    },
    {
     "data": {
      "text/html": [
       "<div>\n",
       "<style scoped>\n",
       "    .dataframe tbody tr th:only-of-type {\n",
       "        vertical-align: middle;\n",
       "    }\n",
       "\n",
       "    .dataframe tbody tr th {\n",
       "        vertical-align: top;\n",
       "    }\n",
       "\n",
       "    .dataframe thead th {\n",
       "        text-align: right;\n",
       "    }\n",
       "</style>\n",
       "<table border=\"1\" class=\"dataframe\">\n",
       "  <thead>\n",
       "    <tr style=\"text-align: right;\">\n",
       "      <th></th>\n",
       "      <th>conv_id</th>\n",
       "      <th>speaker</th>\n",
       "      <th>utterance</th>\n",
       "      <th>emotion</th>\n",
       "      <th>annotation</th>\n",
       "    </tr>\n",
       "  </thead>\n",
       "  <tbody>\n",
       "    <tr>\n",
       "      <th>0</th>\n",
       "      <td>0</td>\n",
       "      <td>Phoebe</td>\n",
       "      <td>Oh my God, hes lost it. Hes totally lost it.</td>\n",
       "      <td>non-neutral</td>\n",
       "      <td>0002120</td>\n",
       "    </tr>\n",
       "    <tr>\n",
       "      <th>1</th>\n",
       "      <td>0</td>\n",
       "      <td>Monica</td>\n",
       "      <td>What?</td>\n",
       "      <td>surprise</td>\n",
       "      <td>1000130</td>\n",
       "    </tr>\n",
       "    <tr>\n",
       "      <th>2</th>\n",
       "      <td>0</td>\n",
       "      <td>Ross</td>\n",
       "      <td>Or! Or, we could go to the bank, close our acc...</td>\n",
       "      <td>neutral</td>\n",
       "      <td>3000200</td>\n",
       "    </tr>\n",
       "    <tr>\n",
       "      <th>3</th>\n",
       "      <td>0</td>\n",
       "      <td>Chandler</td>\n",
       "      <td>Youre a genius!</td>\n",
       "      <td>joy</td>\n",
       "      <td>0500000</td>\n",
       "    </tr>\n",
       "    <tr>\n",
       "      <th>4</th>\n",
       "      <td>0</td>\n",
       "      <td>Joey</td>\n",
       "      <td>Aww, man, now we wont be bank buddies!</td>\n",
       "      <td>sadness</td>\n",
       "      <td>0040100</td>\n",
       "    </tr>\n",
       "  </tbody>\n",
       "</table>\n",
       "</div>"
      ],
      "text/plain": [
       "  conv_id   speaker                                          utterance  \\\n",
       "0       0    Phoebe     Oh my God, hes lost it. Hes totally lost it.   \n",
       "1       0    Monica                                              What?   \n",
       "2       0      Ross  Or! Or, we could go to the bank, close our acc...   \n",
       "3       0  Chandler                                   Youre a genius!   \n",
       "4       0      Joey            Aww, man, now we wont be bank buddies!   \n",
       "\n",
       "       emotion annotation  \n",
       "0  non-neutral    0002120  \n",
       "1     surprise    1000130  \n",
       "2      neutral    3000200  \n",
       "3          joy    0500000  \n",
       "4      sadness    0040100  "
      ]
     },
     "execution_count": 5,
     "metadata": {},
     "output_type": "execute_result"
    }
   ],
   "source": [
    "df, emotions = data_analysis.dict2dataframe_emotion_lines_push(data_dict)\n",
    "\n",
    "df.head()"
   ]
  },
  {
   "cell_type": "markdown",
   "id": "bizarre-omega",
   "metadata": {},
   "source": [
    "### Emotions in the corpus"
   ]
  },
  {
   "cell_type": "code",
   "execution_count": 6,
   "id": "brown-crawford",
   "metadata": {},
   "outputs": [
    {
     "data": {
      "text/plain": [
       "['non-neutral',\n",
       " 'surprise',\n",
       " 'neutral',\n",
       " 'joy',\n",
       " 'sadness',\n",
       " 'anger',\n",
       " 'disgust',\n",
       " 'fear']"
      ]
     },
     "execution_count": 6,
     "metadata": {},
     "output_type": "execute_result"
    }
   ],
   "source": [
    "emotions"
   ]
  },
  {
   "cell_type": "markdown",
   "id": "revolutionary-routine",
   "metadata": {},
   "source": [
    "### Dictionary with sentences per emotion"
   ]
  },
  {
   "cell_type": "code",
   "execution_count": 7,
   "id": "standard-component",
   "metadata": {},
   "outputs": [
    {
     "data": {
      "text/plain": [
       "['Or! Or, we could go to the bank, close our accounts and cut them off at the source.',\n",
       " 'Now, there\\x92s two reasons.',\n",
       " 'Hey.',\n",
       " 'Ohh, you guys, remember that cute client I told you about? I bit him.',\n",
       " 'On the touchy.']"
      ]
     },
     "execution_count": 7,
     "metadata": {},
     "output_type": "execute_result"
    }
   ],
   "source": [
    "emotions_corpus_dict = {}\n",
    "\n",
    "for emotion in emotions:\n",
    "    emotions_corpus_dict[emotion] = []\n",
    "    \n",
    "    # only select portion of the corpus correspondent to the specified emotion\n",
    "    emotion_df = df[df['emotion'] == emotion]\n",
    "    emotion_corpus = emotion_df['utterance'].values\n",
    "    \n",
    "    for utterance in emotion_corpus:\n",
    "        emotions_corpus_dict[emotion].append(utterance.strip())\n",
    "        \n",
    "emotions_corpus_dict['neutral'][:5]"
   ]
  },
  {
   "cell_type": "markdown",
   "id": "scheduled-signature",
   "metadata": {},
   "source": [
    "### Balancing"
   ]
  },
  {
   "cell_type": "code",
   "execution_count": 8,
   "id": "supposed-algeria",
   "metadata": {},
   "outputs": [
    {
     "name": "stdout",
     "output_type": "stream",
     "text": [
      "2772\n",
      "1657\n",
      "6530\n",
      "1710\n",
      "498\n",
      "759\n",
      "331\n",
      "246\n"
     ]
    }
   ],
   "source": [
    "for emotion in emotions_corpus_dict:\n",
    "    print(len(emotions_corpus_dict[emotion]))"
   ]
  },
  {
   "cell_type": "code",
   "execution_count": 9,
   "id": "refined-visibility",
   "metadata": {},
   "outputs": [
    {
     "data": {
      "text/plain": [
       "Text(0, 0.5, 'Number of sentences')"
      ]
     },
     "execution_count": 9,
     "metadata": {},
     "output_type": "execute_result"
    },
    {
     "data": {
      "image/png": "[encoded data removed]",
      "text/plain": [
       "<Figure size 432x288 with 1 Axes>"
      ]
     },
     "metadata": {
      "needs_background": "light"
     },
     "output_type": "display_data"
    }
   ],
   "source": [
    "plt.bar(emotions, [len(emotions_corpus_dict[emotion]) for emotion in emotions_corpus_dict])\n",
    "plt.xticks(rotation=45)\n",
    "plt.title(\"Balancing - number of sentences per sentiment\")\n",
    "plt.xlabel(\"Sentiment\")\n",
    "plt.ylabel(\"Number of sentences\")"
   ]
  },
  {
   "cell_type": "markdown",
   "id": "under-subscriber",
   "metadata": {},
   "source": [
    "### Simple Term Frequency"
   ]
  },
  {
   "cell_type": "code",
   "execution_count": 10,
   "id": "suitable-auction",
   "metadata": {},
   "outputs": [
    {
     "name": "stderr",
     "output_type": "stream",
     "text": [
      "emotion: 100%|██████████| 8/8 [00:07<00:00,  1.04it/s]\n"
     ]
    }
   ],
   "source": [
    "vectorizer = CountVectorizer(analyzer='word', ngram_range=(1,3), stop_words='english')\n",
    "\n",
    "vocabulary_tf_sorted = {}\n",
    "\n",
    "for emotion in tqdm(emotions, desc=\"emotion\"):\n",
    "    # returns document x term matrix\n",
    "    X = vectorizer.fit_transform(emotions_corpus_dict[emotion])\n",
    "    \n",
    "    tf_corpus = []\n",
    "    \n",
    "    term_doc_matrix = X.T\n",
    "    \n",
    "    for term_count in term_doc_matrix:\n",
    "        tf_corpus.append(np.sum(term_count))\n",
    "        \n",
    "    vocabulary_tf = zip(vectorizer.get_feature_names(), tf_corpus)\n",
    "    \n",
    "    vocabulary_tf_reduced = [(word, tf) for (word, tf) in vocabulary_tf if tf > 2]\n",
    "    \n",
    "    vocabulary_tf_sorted[emotion] = sorted(vocabulary_tf_reduced, key = lambda x: x[1], reverse=True)"
   ]
  },
  {
   "cell_type": "code",
   "execution_count": 11,
   "id": "contemporary-allergy",
   "metadata": {},
   "outputs": [
    {
     "name": "stdout",
     "output_type": "stream",
     "text": [
      "non-neutral\n",
      "[('oh', 354), ('know', 259), ('just', 237), ('don', 228), ('okay', 162), ('yeah', 156), ('hey', 155), ('right', 145), ('like', 141), ('think', 121)]\n",
      "---------------------------\n",
      "surprise\n",
      "[('oh', 366), ('god', 156), ('oh god', 138), ('really', 127), ('whoa', 80), ('wow', 77), ('hey', 72), ('did', 70), ('know', 70), ('just', 50)]\n",
      "---------------------------\n",
      "neutral\n",
      "[('know', 624), ('okay', 624), ('yeah', 584), ('oh', 488), ('just', 446), ('right', 361), ('hey', 334), ('don', 312), ('uh', 297), ('ll', 230)]\n",
      "---------------------------\n",
      "joy\n",
      "[('oh', 246), ('hey', 198), ('great', 141), ('yeah', 139), ('know', 98), ('okay', 96), ('good', 84), ('hi', 83), ('love', 81), ('thank', 80)]\n",
      "---------------------------\n",
      "sadness\n",
      "[('sorry', 115), ('know', 66), ('just', 61), ('oh', 50), ('gonna', 41), ('don', 37), ('mean', 30), ('really', 27), ('yeah', 26), ('think', 25)]\n",
      "---------------------------\n",
      "anger\n",
      "[('don', 83), ('know', 64), ('oh', 48), ('just', 46), ('okay', 46), ('gonna', 33), ('right', 33), ('hey', 31), ('come', 30), ('like', 28)]\n",
      "---------------------------\n",
      "disgust\n",
      "[('oh', 54), ('know', 34), ('don', 29), ('just', 28), ('guy', 21), ('like', 21), ('yeah', 21), ('okay', 17), ('god', 16), ('gonna', 15)]\n",
      "---------------------------\n",
      "fear\n",
      "[('oh', 35), ('don', 34), ('okay', 32), ('just', 28), ('gonna', 25), ('uh', 23), ('know', 21), ('wait', 19), ('think', 14), ('look', 12)]\n",
      "---------------------------\n"
     ]
    }
   ],
   "source": [
    "for emotion in vocabulary_tf_sorted:\n",
    "    print(emotion)\n",
    "    print(vocabulary_tf_sorted[emotion][:10])\n",
    "    print(\"---------------------------\")"
   ]
  },
  {
   "cell_type": "markdown",
   "id": "waiting-uncertainty",
   "metadata": {},
   "source": [
    "### TF-IDF\n",
    "\n",
    "**Idea**: The sentences of a single sentiment will belong to a unique document. We will rank each token of the document when compared to the full corpus.\n",
    "\n",
    "**Note**: Each document will be a string with all sentences belonging to a single sentiment."
   ]
  },
  {
   "cell_type": "code",
   "execution_count": 12,
   "id": "italian-exhibit",
   "metadata": {},
   "outputs": [
    {
     "name": "stderr",
     "output_type": "stream",
     "text": [
      "emotion:   0%|          | 0/8 [00:00<?, ?it/s]\n",
      "sentence: 100%|██████████| 2772/2772 [00:00<00:00, 303947.79it/s]\n",
      "\n",
      "sentence: 100%|██████████| 1657/1657 [00:00<00:00, 325662.42it/s]\n",
      "\n",
      "sentence: 100%|██████████| 6530/6530 [00:00<00:00, 260803.54it/s]\n",
      "\n",
      "sentence: 100%|██████████| 1710/1710 [00:00<00:00, 231363.22it/s]\n",
      "\n",
      "sentence: 100%|██████████| 498/498 [00:00<00:00, 166554.77it/s]\n",
      "\n",
      "sentence: 100%|██████████| 759/759 [00:00<00:00, 207758.06it/s]\n",
      "\n",
      "sentence: 100%|██████████| 331/331 [00:00<00:00, 207149.30it/s]\n",
      "\n",
      "sentence: 100%|██████████| 246/246 [00:00<00:00, 173820.55it/s]\n",
      "emotion: 100%|██████████| 8/8 [00:00<00:00, 78.53it/s]\n"
     ]
    }
   ],
   "source": [
    "corpus_by_emotion = []\n",
    "\n",
    "for emotion in tqdm(emotions, desc=\"emotion\"): \n",
    "    corpus = \"\"\n",
    "    \n",
    "    # select examples of the corpus that are labelled with the specific sentiment \n",
    "    emotion_df = df[df['emotion'] == emotion]\n",
    "    emotion_corpus = emotion_df['utterance'].values\n",
    "    \n",
    "    # preprocessing + building string corpus\n",
    "    for sentence in tqdm(emotion_corpus, desc=\"sentence\"):\n",
    "        corpus += data_analysis.preprocessing(sentence, lower=True, punct=True) + \" \"\n",
    "        \n",
    "    corpus_by_emotion.append(corpus)"
   ]
  },
  {
   "cell_type": "code",
   "execution_count": 13,
   "id": "first-indonesia",
   "metadata": {},
   "outputs": [],
   "source": [
    "tfidf_vectorizer = TfidfVectorizer(ngram_range=(1,3), analyzer=\"word\", sublinear_tf=True)\n",
    "\n",
    "tfidf_vectorspace = tfidf_vectorizer.fit_transform(corpus_by_emotion)"
   ]
  },
  {
   "cell_type": "code",
   "execution_count": 14,
   "id": "monthly-neighborhood",
   "metadata": {},
   "outputs": [
    {
     "data": {
      "text/plain": [
       "(8, 146611)"
      ]
     },
     "execution_count": 14,
     "metadata": {},
     "output_type": "execute_result"
    }
   ],
   "source": [
    "# matrix: emotion x tokens\n",
    "tfidf_vectorspace.shape"
   ]
  },
  {
   "cell_type": "markdown",
   "id": "injured-piece",
   "metadata": {},
   "source": [
    "From this vectorspace we want to find the top n most relevant tokens per sentiment, i.e., sort each line in the vectorspace and retrieve the top n."
   ]
  },
  {
   "cell_type": "code",
   "execution_count": 15,
   "id": "charming-triangle",
   "metadata": {},
   "outputs": [
    {
     "name": "stderr",
     "output_type": "stream",
     "text": [
      "8it [00:00, 68.48it/s]\n"
     ]
    }
   ],
   "source": [
    "emotions_lexicon = {}\n",
    "\n",
    "n = 10\n",
    "\n",
    "feature_array = np.array(tfidf_vectorizer.get_feature_names())\n",
    "\n",
    "for i, tfidf_scores in tqdm(enumerate(tfidf_vectorspace)):\n",
    "    tfidf_sorting = np.argsort(tfidf_scores.toarray()).flatten()[::-1]\n",
    "    top_n = feature_array[tfidf_sorting][:n]\n",
    "    \n",
    "    emotions_lexicon[emotions[i]] = top_n"
   ]
  },
  {
   "cell_type": "code",
   "execution_count": 16,
   "id": "mysterious-dutch",
   "metadata": {},
   "outputs": [
    {
     "data": {
      "text/plain": [
       "{'non-neutral': array(['you', 'not yet not', 'yet not', 'yet not yet', 'the', 'it', 'ow',\n",
       "        'to', 'that', 'and'], dtype='<U35'),\n",
       " 'surprise': array(['you serious', 'whoa whoa whoa', 'whoa whoa', 'are you serious',\n",
       "        'really what', 'what what', 'whoa what', 'ow', 'really oh', 'you'],\n",
       "       dtype='<U35'),\n",
       " 'neutral': array(['you', 'the', 'assistant', 'to', 'it', 'that', 'yeah listen', 'la',\n",
       "        'hello', 'okay yeah'], dtype='<U35'),\n",
       " 'joy': array(['yay', 'dum dum', 'dum dum dum', 'you', 'dum', 'kiss me',\n",
       "        'morning here', 'and hey', 'so sweet', 'hoo'], dtype='<U35'),\n",
       " 'sadness': array(['sorry well', 'you', 'gonna miss you', 'and broke', 'miss you',\n",
       "        'sorry no', 'to', 'and', 'sorry', 'it'], dtype='<U35'),\n",
       " 'anger': array(['joey joey joey', 'you', 'to', 'it', 'ow', 'damnit',\n",
       "        'all your fault', 'horny bitch', 'marry her', 'is all your'],\n",
       "       dtype='<U35'),\n",
       " 'disgust': array(['ew', 'ew ew', 'ew ew ew', 'you', 'eww', 'spend the', 'the',\n",
       "        'that', 'it', 'hate him'], dtype='<U35'),\n",
       " 'fear': array(['go go go', 'go go', 'you', 'what am going', 'ross ross ross',\n",
       "        'no', 'to', 'it', 'wait wait', 'wait wait wait'], dtype='<U35')}"
      ]
     },
     "execution_count": 16,
     "metadata": {},
     "output_type": "execute_result"
    }
   ],
   "source": [
    "emotions_lexicon"
   ]
  },
  {
   "cell_type": "code",
   "execution_count": null,
   "id": "funky-forum",
   "metadata": {},
   "outputs": [],
   "source": []
  }
 ],
 "metadata": {
  "kernelspec": {
   "display_name": "thesis",
   "language": "python",
   "name": "thesis"
  },
  "language_info": {
   "codemirror_mode": {
    "name": "ipython",
    "version": 3
   },
   "file_extension": ".py",
   "mimetype": "text/x-python",
   "name": "python",
   "nbconvert_exporter": "python",
   "pygments_lexer": "ipython3",
   "version": "3.9.2"
  }
 },
 "nbformat": 4,
 "nbformat_minor": 5
}
