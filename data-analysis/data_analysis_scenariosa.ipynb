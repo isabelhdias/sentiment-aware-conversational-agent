{
 "cells": [
  {
   "cell_type": "code",
   "execution_count": 7,
   "id": "c3d9eac0",
   "metadata": {},
   "outputs": [],
   "source": [
    "import data_analysis as data_analysis\n",
    "\n",
    "import matplotlib.pyplot as plt \n",
    "import numpy as np\n",
    "import pandas as pd\n",
    "\n",
    "from sklearn.feature_extraction.text import CountVectorizer\n",
    "from sklearn.feature_extraction.text import TfidfVectorizer\n",
    "from tqdm import tqdm"
   ]
  },
  {
   "cell_type": "code",
   "execution_count": 8,
   "id": "c8935598",
   "metadata": {},
   "outputs": [],
   "source": [
    "data_location = \"../data/scenariosa/InteractiveSentimentDataset/\"\n",
    "labels_location = \"../data/scenariosa/labels.txt\""
   ]
  },
  {
   "cell_type": "code",
   "execution_count": 3,
   "id": "07796288",
   "metadata": {},
   "outputs": [
    {
     "name": "stderr",
     "output_type": "stream",
     "text": [
      "reading conversations: 100%|██████████████████████████████████████████████████| 2214/2214 [01:16<00:00, 28.81it/s]\n"
     ]
    }
   ],
   "source": [
    "train, valid, test = data_analysis.text2dataframe_scenarioSA(data_location)"
   ]
  },
  {
   "cell_type": "code",
   "execution_count": 4,
   "id": "62af92f1",
   "metadata": {},
   "outputs": [
    {
     "data": {
      "text/html": [
       "<div>\n",
       "<style scoped>\n",
       "    .dataframe tbody tr th:only-of-type {\n",
       "        vertical-align: middle;\n",
       "    }\n",
       "\n",
       "    .dataframe tbody tr th {\n",
       "        vertical-align: top;\n",
       "    }\n",
       "\n",
       "    .dataframe thead th {\n",
       "        text-align: right;\n",
       "    }\n",
       "</style>\n",
       "<table border=\"1\" class=\"dataframe\">\n",
       "  <thead>\n",
       "    <tr style=\"text-align: right;\">\n",
       "      <th></th>\n",
       "      <th>conv_id</th>\n",
       "      <th>speaker</th>\n",
       "      <th>text</th>\n",
       "      <th>label</th>\n",
       "    </tr>\n",
       "  </thead>\n",
       "  <tbody>\n",
       "    <tr>\n",
       "      <th>3662</th>\n",
       "      <td>304</td>\n",
       "      <td>A</td>\n",
       "      <td>I can't stay here, though.</td>\n",
       "      <td>0</td>\n",
       "    </tr>\n",
       "    <tr>\n",
       "      <th>23547</th>\n",
       "      <td>131</td>\n",
       "      <td>A</td>\n",
       "      <td>How much do the roses cost?</td>\n",
       "      <td>1</td>\n",
       "    </tr>\n",
       "    <tr>\n",
       "      <th>15365</th>\n",
       "      <td>2132</td>\n",
       "      <td>B</td>\n",
       "      <td>Of course! Will you?</td>\n",
       "      <td>2</td>\n",
       "    </tr>\n",
       "    <tr>\n",
       "      <th>12613</th>\n",
       "      <td>427</td>\n",
       "      <td>A</td>\n",
       "      <td>If she's so unhappy, she should find another job.</td>\n",
       "      <td>0</td>\n",
       "    </tr>\n",
       "    <tr>\n",
       "      <th>3732</th>\n",
       "      <td>311</td>\n",
       "      <td>B</td>\n",
       "      <td>I need help finding a new refrigerator.</td>\n",
       "      <td>1</td>\n",
       "    </tr>\n",
       "  </tbody>\n",
       "</table>\n",
       "</div>"
      ],
      "text/plain": [
       "      conv_id speaker                                               text label\n",
       "3662      304       A                         I can't stay here, though.     0\n",
       "23547     131       A                        How much do the roses cost?     1\n",
       "15365    2132       B                               Of course! Will you?     2\n",
       "12613     427       A  If she's so unhappy, she should find another job.     0\n",
       "3732      311       B            I need help finding a new refrigerator.     1"
      ]
     },
     "execution_count": 4,
     "metadata": {},
     "output_type": "execute_result"
    }
   ],
   "source": [
    "train.head()"
   ]
  },
  {
   "cell_type": "code",
   "execution_count": 15,
   "id": "c199e4bc",
   "metadata": {},
   "outputs": [
    {
     "data": {
      "text/plain": [
       "{'negative': 0, 'neutral': 1, 'positive': 2}"
      ]
     },
     "execution_count": 15,
     "metadata": {},
     "output_type": "execute_result"
    }
   ],
   "source": [
    "with open(labels_location, \"r\") as fp:\n",
    "    labels = [line.strip() for line in fp.readlines()]\n",
    "    emotions = {labels[i]: i for i in range(len(labels))}\n",
    "    \n",
    "emotions"
   ]
  },
  {
   "cell_type": "code",
   "execution_count": 19,
   "id": "fda4ce58",
   "metadata": {},
   "outputs": [
    {
     "data": {
      "text/plain": [
       "[\"I can't stay here, though.\",\n",
       " \"If she's so unhappy, she should find another job.\",\n",
       " 'A pipe burst in my ceiling.',\n",
       " \"It's too late.\",\n",
       " \"I had to say something since we're roommates and I'm tired of cleaning her mess.\"]"
      ]
     },
     "execution_count": 19,
     "metadata": {},
     "output_type": "execute_result"
    }
   ],
   "source": [
    "def split_corpus_by_emotion(emotions, dataframe):\n",
    "    emotions_corpus_dict = {}\n",
    "\n",
    "    for emotion in emotions:\n",
    "        emotions_corpus_dict[emotion] = []\n",
    "\n",
    "        # only select portion of the corpus correspondent to the specified emotion\n",
    "        emotion_df = dataframe[dataframe['label'] == emotion]\n",
    "        emotion_corpus = emotion_df['text'].values\n",
    "\n",
    "        for utterance in emotion_corpus:\n",
    "            emotions_corpus_dict[emotion].append(utterance.strip())\n",
    "            \n",
    "    return emotions_corpus_dict\n",
    "\n",
    "emotions_corpus_dict = split_corpus_by_emotion(list(emotions.values()), train)\n",
    "emotions_corpus_dict_dev = split_corpus_by_emotion(list(emotions.values()), valid)\n",
    "emotions_corpus_dict_test = split_corpus_by_emotion(list(emotions.values()), test)\n",
    "        \n",
    "emotions_corpus_dict[0][:5]"
   ]
  },
  {
   "cell_type": "markdown",
   "id": "fd3e186a",
   "metadata": {},
   "source": [
    "### Balancing"
   ]
  },
  {
   "cell_type": "code",
   "execution_count": 20,
   "id": "086d0438",
   "metadata": {},
   "outputs": [
    {
     "name": "stdout",
     "output_type": "stream",
     "text": [
      "2601\n",
      "8378\n",
      "3460\n"
     ]
    }
   ],
   "source": [
    "for emotion in emotions_corpus_dict:\n",
    "    print(len(emotions_corpus_dict[emotion]))"
   ]
  },
  {
   "cell_type": "code",
   "execution_count": 29,
   "id": "06144f87",
   "metadata": {},
   "outputs": [
    {
     "name": "stdout",
     "output_type": "stream",
     "text": [
      "[0 1 2]\n"
     ]
    },
    {
     "name": "stderr",
     "output_type": "stream",
     "text": [
      "/Users/isabeldias/Documents/Envs/thesis/lib/python3.7/site-packages/ipykernel_launcher.py:8: UserWarning: FixedFormatter should only be used together with FixedLocator\n",
      "  \n"
     ]
    },
    {
     "data": {
      "image/png": "[encoded data removed]",
      "text/plain": [
       "<Figure size 432x288 with 1 Axes>"
      ]
     },
     "metadata": {
      "needs_background": "light"
     },
     "output_type": "display_data"
    }
   ],
   "source": [
    "x = np.arange(len(list(emotions.values())))\n",
    "print(x)\n",
    "\n",
    "ax = plt.subplot(111)\n",
    "ax.bar(x-0.2, [len(emotions_corpus_dict[emotion]) for emotion in emotions_corpus_dict], width=0.2, color='lightcoral', label='train')\n",
    "ax.bar(x, [len(emotions_corpus_dict_dev[emotion]) for emotion in emotions_corpus_dict], width=0.2, color='lightgreen', label='dev')\n",
    "ax.bar(x+0.2, [len(emotions_corpus_dict_test[emotion]) for emotion in emotions_corpus_dict], width=0.2, color='skyblue', label='test')\n",
    "ax.set_xticklabels(['0','negative', '', 'neutral', '', 'positive'], rotation=45)\n",
    "ax.legend()\n",
    "\n",
    "plt.ylabel('Number of examples')\n",
    "plt.xlabel('Sentiments')\n",
    "\n",
    "plt.tight_layout()\n",
    "\n",
    "plt.savefig(\"balancing_scenariosa.jpeg\", dpi=300)"
   ]
  },
  {
   "cell_type": "code",
   "execution_count": null,
   "id": "969f98d8",
   "metadata": {},
   "outputs": [],
   "source": []
  }
 ],
 "metadata": {
  "kernelspec": {
   "display_name": "thesis",
   "language": "python",
   "name": "thesis"
  },
  "language_info": {
   "codemirror_mode": {
    "name": "ipython",
    "version": 3
   },
   "file_extension": ".py",
   "mimetype": "text/x-python",
   "name": "python",
   "nbconvert_exporter": "python",
   "pygments_lexer": "ipython3",
   "version": "3.7.11"
  }
 },
 "nbformat": 4,
 "nbformat_minor": 5
}
