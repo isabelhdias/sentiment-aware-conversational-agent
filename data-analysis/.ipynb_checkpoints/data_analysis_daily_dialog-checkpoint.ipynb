{
 "cells": [
  {
   "cell_type": "markdown",
   "id": "assured-membrane",
   "metadata": {},
   "source": [
    "# Data Analysis\n",
    "## DailyDialog\n",
    "DailyDialog dataset data exploration to retrieve sentiment lexicon and dataset creation. \n",
    "\n",
    "@input: text file (txt) \n",
    "    each line is a conversation. sentences are separated by \"__eou__\" tokens\n",
    "    \n",
    "@output: json file\n",
    "    attributes: conv_id, utterance, emotion"
   ]
  },
  {
   "cell_type": "code",
   "execution_count": 2,
   "id": "joined-rebound",
   "metadata": {},
   "outputs": [],
   "source": [
    "import data_analysis as data_analysis\n",
    "\n",
    "import matplotlib.pyplot as plt \n",
    "import numpy as np\n",
    "import pandas as pd\n",
    "\n",
    "from sklearn.feature_extraction.text import CountVectorizer\n",
    "from sklearn.feature_extraction.text import TfidfVectorizer\n",
    "from tqdm import tqdm"
   ]
  },
  {
   "cell_type": "code",
   "execution_count": 3,
   "id": "falling-virus",
   "metadata": {},
   "outputs": [],
   "source": [
    "data_location = \"../data/ijcnlp_dailydialog/train/dialogues_train.txt\"\n",
    "labels_location = \"../data/ijcnlp_dailydialog/train/dialogues_emotion_train.txt\""
   ]
  },
  {
   "cell_type": "code",
   "execution_count": 4,
   "id": "coastal-brand",
   "metadata": {},
   "outputs": [
    {
     "name": "stderr",
     "output_type": "stream",
     "text": [
      "conversation: 11118it [08:07, 22.81it/s]\n"
     ]
    },
    {
     "name": "stdout",
     "output_type": "stream",
     "text": [
      "> \u001b[0;32m/Users/isabeldias/Documents/GitHub/thesis/data-analysis/data_analysis.py\u001b[0m(96)\u001b[0;36mtext2dataframe_daily_dialog\u001b[0;34m()\u001b[0m\n",
      "\u001b[0;32m     94 \u001b[0;31m\u001b[0;34m\u001b[0m\u001b[0m\n",
      "\u001b[0m\u001b[0;32m     95 \u001b[0;31m    \u001b[0mbreakpoint\u001b[0m\u001b[0;34m(\u001b[0m\u001b[0;34m)\u001b[0m\u001b[0;34m\u001b[0m\u001b[0;34m\u001b[0m\u001b[0m\n",
      "\u001b[0m\u001b[0;32m---> 96 \u001b[0;31m    \u001b[0;32mreturn\u001b[0m \u001b[0mdf\u001b[0m\u001b[0;34m\u001b[0m\u001b[0;34m\u001b[0m\u001b[0m\n",
      "\u001b[0m\u001b[0;32m     97 \u001b[0;31m\u001b[0;34m\u001b[0m\u001b[0m\n",
      "\u001b[0m\u001b[0;32m     98 \u001b[0;31m\u001b[0;34m\u001b[0m\u001b[0m\n",
      "\u001b[0m\n",
      "ipdb> c\n"
     ]
    }
   ],
   "source": [
    "data_txt = open(data_location, \"r\")\n",
    "labels_txt = open(labels_location, \"r\")\n",
    "\n",
    "df = data_analysis.text2dataframe_daily_dialog(data_txt, labels_txt)"
   ]
  },
  {
   "cell_type": "code",
   "execution_count": 5,
   "id": "perfect-instrument",
   "metadata": {},
   "outputs": [
    {
     "data": {
      "text/html": [
       "<div>\n",
       "<style scoped>\n",
       "    .dataframe tbody tr th:only-of-type {\n",
       "        vertical-align: middle;\n",
       "    }\n",
       "\n",
       "    .dataframe tbody tr th {\n",
       "        vertical-align: top;\n",
       "    }\n",
       "\n",
       "    .dataframe thead th {\n",
       "        text-align: right;\n",
       "    }\n",
       "</style>\n",
       "<table border=\"1\" class=\"dataframe\">\n",
       "  <thead>\n",
       "    <tr style=\"text-align: right;\">\n",
       "      <th></th>\n",
       "      <th>conv_id</th>\n",
       "      <th>utterance</th>\n",
       "      <th>emotion</th>\n",
       "    </tr>\n",
       "  </thead>\n",
       "  <tbody>\n",
       "    <tr>\n",
       "      <th>0</th>\n",
       "      <td>0</td>\n",
       "      <td>Say , Jim , how about going for a few beers af...</td>\n",
       "      <td>0</td>\n",
       "    </tr>\n",
       "    <tr>\n",
       "      <th>1</th>\n",
       "      <td>0</td>\n",
       "      <td>You know that is tempting but is really not g...</td>\n",
       "      <td>0</td>\n",
       "    </tr>\n",
       "    <tr>\n",
       "      <th>2</th>\n",
       "      <td>0</td>\n",
       "      <td>What do you mean ? It will help us to relax .</td>\n",
       "      <td>0</td>\n",
       "    </tr>\n",
       "    <tr>\n",
       "      <th>3</th>\n",
       "      <td>0</td>\n",
       "      <td>Do you really think so ? I don't . It will ju...</td>\n",
       "      <td>0</td>\n",
       "    </tr>\n",
       "    <tr>\n",
       "      <th>4</th>\n",
       "      <td>0</td>\n",
       "      <td>I guess you are right.But what shall we do ? ...</td>\n",
       "      <td>0</td>\n",
       "    </tr>\n",
       "  </tbody>\n",
       "</table>\n",
       "</div>"
      ],
      "text/plain": [
       "  conv_id                                          utterance emotion\n",
       "0       0  Say , Jim , how about going for a few beers af...       0\n",
       "1       0   You know that is tempting but is really not g...       0\n",
       "2       0     What do you mean ? It will help us to relax .        0\n",
       "3       0   Do you really think so ? I don't . It will ju...       0\n",
       "4       0   I guess you are right.But what shall we do ? ...       0"
      ]
     },
     "execution_count": 5,
     "metadata": {},
     "output_type": "execute_result"
    }
   ],
   "source": [
    "df.head()"
   ]
  },
  {
   "cell_type": "code",
   "execution_count": 10,
   "id": "corrected-console",
   "metadata": {},
   "outputs": [
    {
     "data": {
      "text/plain": [
       "[0, 1, 2, 3, 4, 5, 6]"
      ]
     },
     "execution_count": 10,
     "metadata": {},
     "output_type": "execute_result"
    }
   ],
   "source": [
    "emotions = {'no emotion': 0, 'anger': 1, 'disgust': 2, 'fear': 3, 'happiness': 4, 'sadness': 5, 'surprise': 6}\n",
    "list(emotions.values())"
   ]
  },
  {
   "cell_type": "code",
   "execution_count": null,
   "id": "rotary-omega",
   "metadata": {},
   "outputs": [],
   "source": [
    "emotions_corpus_dict = {}\n",
    "\n",
    "for emotion in list(emotions.values()):\n",
    "    emotions_corpus_dict[emotion] = []\n",
    "    \n",
    "    # only select portion of the corpus correspondent to the specified emotion\n",
    "    emotion_df = df[df['emotion'] == str(emotion)]\n",
    "    emotion_corpus = emotion_df['utterance'].values\n",
    "    \n",
    "    for utterance in emotion_corpus:\n",
    "        emotions_corpus_dict[emotion].append(utterance.strip())\n",
    "        \n",
    "emotions_corpus_dict[0][:5]"
   ]
  },
  {
   "cell_type": "code",
   "execution_count": null,
   "id": "ultimate-petroleum",
   "metadata": {},
   "outputs": [],
   "source": []
  }
 ],
 "metadata": {
  "kernelspec": {
   "display_name": "thesis",
   "language": "python",
   "name": "thesis"
  },
  "language_info": {
   "codemirror_mode": {
    "name": "ipython",
    "version": 3
   },
   "file_extension": ".py",
   "mimetype": "text/x-python",
   "name": "python",
   "nbconvert_exporter": "python",
   "pygments_lexer": "ipython3",
   "version": "3.9.2"
  }
 },
 "nbformat": 4,
 "nbformat_minor": 5
}
