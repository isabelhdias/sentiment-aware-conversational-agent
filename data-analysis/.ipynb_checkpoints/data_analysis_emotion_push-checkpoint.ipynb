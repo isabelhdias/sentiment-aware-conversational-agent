{
 "cells": [
  {
   "cell_type": "markdown",
   "metadata": {},
   "source": [
    "# Data Analysis\n",
    "## Emotion Push\n",
    "Emotion Push dataset data exploration to retrieve sentiment lexicon and dataset creation. \n",
    "\n",
    "@input: json file \n",
    "    attributes: speaker, utterance, emotion, annotation\n",
    "    \n",
    "@output: json file\n",
    "    attributes: conv_id, speaker, utterance, emotion, annotation"
   ]
  },
  {
   "cell_type": "code",
   "execution_count": 1,
   "metadata": {},
   "outputs": [],
   "source": [
    "import data_analysis as data_analysis\n",
    "\n",
    "import matplotlib.pyplot as plt \n",
    "import numpy as np\n",
    "import pandas as pd\n",
    "\n",
    "from pycontractions import Contractions\n",
    "\n",
    "from sklearn.feature_extraction.text import CountVectorizer\n",
    "from sklearn.feature_extraction.text import TfidfVectorizer\n",
    "from tqdm import tqdm"
   ]
  },
  {
   "cell_type": "code",
   "execution_count": null,
   "metadata": {},
   "outputs": [
    {
     "name": "stdout",
     "output_type": "stream",
     "text": [
      "[=============================---------------------] 58.2% 441.4/758.5MB downloaded"
     ]
    }
   ],
   "source": [
    "cont = Contractions(api_key=\"glove-twitter-200\")\n",
    "\n",
    "list(cont.expand_texts([\"I'd like to know how I'd done that!\",\n",
    "                            \"We're going to the zoo and I don't think I'll be home for dinner.\",\n",
    "                            \"Theyre going to the zoo and she'll be home for dinner.\"]))"
   ]
  },
  {
   "cell_type": "markdown",
   "metadata": {},
   "source": [
    "### Load json and build dataframe"
   ]
  },
  {
   "cell_type": "code",
   "execution_count": 3,
   "metadata": {},
   "outputs": [],
   "source": [
    "data_location = \"../data/emotionpush/train.json\"\n",
    "save_location = \"../data/emotionpush/\""
   ]
  },
  {
   "cell_type": "code",
   "execution_count": 4,
   "metadata": {},
   "outputs": [],
   "source": [
    "data_dict = data_analysis.load_json(data_location)"
   ]
  },
  {
   "cell_type": "code",
   "execution_count": 5,
   "metadata": {},
   "outputs": [
    {
     "name": "stderr",
     "output_type": "stream",
     "text": [
      "conversation: 100%|██████████| 720/720 [00:37<00:00, 19.27it/s]\n"
     ]
    },
    {
     "data": {
      "text/html": [
       "<div>\n",
       "<style scoped>\n",
       "    .dataframe tbody tr th:only-of-type {\n",
       "        vertical-align: middle;\n",
       "    }\n",
       "\n",
       "    .dataframe tbody tr th {\n",
       "        vertical-align: top;\n",
       "    }\n",
       "\n",
       "    .dataframe thead th {\n",
       "        text-align: right;\n",
       "    }\n",
       "</style>\n",
       "<table border=\"1\" class=\"dataframe\">\n",
       "  <thead>\n",
       "    <tr style=\"text-align: right;\">\n",
       "      <th></th>\n",
       "      <th>conv_id</th>\n",
       "      <th>speaker</th>\n",
       "      <th>utterance</th>\n",
       "      <th>emotion</th>\n",
       "      <th>annotation</th>\n",
       "    </tr>\n",
       "  </thead>\n",
       "  <tbody>\n",
       "    <tr>\n",
       "      <th>0</th>\n",
       "      <td>0</td>\n",
       "      <td>100000497930502</td>\n",
       "      <td>Sorry to bother you but do you have the 270 te...</td>\n",
       "      <td>neutral</td>\n",
       "      <td>4001000</td>\n",
       "    </tr>\n",
       "    <tr>\n",
       "      <th>1</th>\n",
       "      <td>0</td>\n",
       "      <td>100000222851837</td>\n",
       "      <td>What's it called</td>\n",
       "      <td>neutral</td>\n",
       "      <td>4000010</td>\n",
       "    </tr>\n",
       "    <tr>\n",
       "      <th>2</th>\n",
       "      <td>0</td>\n",
       "      <td>100000497930502</td>\n",
       "      <td>Digital design and principles I think</td>\n",
       "      <td>neutral</td>\n",
       "      <td>5000000</td>\n",
       "    </tr>\n",
       "    <tr>\n",
       "      <th>3</th>\n",
       "      <td>0</td>\n",
       "      <td>100000222851837</td>\n",
       "      <td>I don't think so?</td>\n",
       "      <td>neutral</td>\n",
       "      <td>3000020</td>\n",
       "    </tr>\n",
       "    <tr>\n",
       "      <th>4</th>\n",
       "      <td>0</td>\n",
       "      <td>100000222851837</td>\n",
       "      <td>I could be wrong</td>\n",
       "      <td>neutral</td>\n",
       "      <td>5000000</td>\n",
       "    </tr>\n",
       "  </tbody>\n",
       "</table>\n",
       "</div>"
      ],
      "text/plain": [
       "  conv_id          speaker                                          utterance  \\\n",
       "0       0  100000497930502  Sorry to bother you but do you have the 270 te...   \n",
       "1       0  100000222851837                                   What's it called   \n",
       "2       0  100000497930502              Digital design and principles I think   \n",
       "3       0  100000222851837                                  I don't think so?   \n",
       "4       0  100000222851837                                   I could be wrong   \n",
       "\n",
       "   emotion annotation  \n",
       "0  neutral    4001000  \n",
       "1  neutral    4000010  \n",
       "2  neutral    5000000  \n",
       "3  neutral    3000020  \n",
       "4  neutral    5000000  "
      ]
     },
     "execution_count": 5,
     "metadata": {},
     "output_type": "execute_result"
    }
   ],
   "source": [
    "df, emotions = data_analysis.dict2dataframe_emotion_lines_push(data_dict)\n",
    "\n",
    "df.head()"
   ]
  },
  {
   "cell_type": "markdown",
   "metadata": {},
   "source": [
    "### Emotions in the corpus"
   ]
  },
  {
   "cell_type": "code",
   "execution_count": 6,
   "metadata": {},
   "outputs": [
    {
     "data": {
      "text/plain": [
       "['neutral',\n",
       " 'non-neutral',\n",
       " 'disgust',\n",
       " 'surprise',\n",
       " 'joy',\n",
       " 'sadness',\n",
       " 'fear',\n",
       " 'anger']"
      ]
     },
     "execution_count": 6,
     "metadata": {},
     "output_type": "execute_result"
    }
   ],
   "source": [
    "emotions"
   ]
  },
  {
   "cell_type": "markdown",
   "metadata": {},
   "source": [
    "### Dictionary with sentences per emotion"
   ]
  },
  {
   "cell_type": "code",
   "execution_count": 7,
   "metadata": {},
   "outputs": [
    {
     "data": {
      "text/plain": [
       "['Sorry to bother you but do you have the 270 textbook?',\n",
       " \"What's it called\",\n",
       " 'Digital design and principles I think',\n",
       " \"I don't think so?\",\n",
       " 'I could be wrong']"
      ]
     },
     "execution_count": 7,
     "metadata": {},
     "output_type": "execute_result"
    }
   ],
   "source": [
    "emotions_corpus_dict = {}\n",
    "\n",
    "for emotion in emotions:\n",
    "    emotions_corpus_dict[emotion] = []\n",
    "    \n",
    "    # only select portion of the corpus correspondent to the specified emotion\n",
    "    emotion_df = df[df['emotion'] == emotion]\n",
    "    emotion_corpus = emotion_df['utterance'].values\n",
    "    \n",
    "    for utterance in emotion_corpus:\n",
    "        emotions_corpus_dict[emotion].append(utterance.strip())\n",
    "        \n",
    "emotions_corpus_dict['neutral'][:5]"
   ]
  },
  {
   "cell_type": "markdown",
   "metadata": {},
   "source": [
    "### Balancing"
   ]
  },
  {
   "cell_type": "code",
   "execution_count": 8,
   "metadata": {},
   "outputs": [
    {
     "name": "stdout",
     "output_type": "stream",
     "text": [
      "7148\n",
      "1064\n",
      "85\n",
      "435\n",
      "1482\n",
      "389\n",
      "36\n",
      "94\n"
     ]
    }
   ],
   "source": [
    "for emotion in emotions_corpus_dict:\n",
    "    print(len(emotions_corpus_dict[emotion]))"
   ]
  },
  {
   "cell_type": "code",
   "execution_count": 9,
   "metadata": {},
   "outputs": [
    {
     "data": {
      "text/plain": [
       "Text(0, 0.5, 'Number of sentences')"
      ]
     },
     "execution_count": 9,
     "metadata": {},
     "output_type": "execute_result"
    },
    {
     "data": {
      "image/png": "[encoded data removed]",
      "text/plain": [
       "<Figure size 432x288 with 1 Axes>"
      ]
     },
     "metadata": {
      "needs_background": "light"
     },
     "output_type": "display_data"
    }
   ],
   "source": [
    "plt.bar(emotions, [len(emotions_corpus_dict[emotion]) for emotion in emotions_corpus_dict])\n",
    "plt.xticks(rotation=45)\n",
    "plt.title(\"Balancing - number of sentences per sentiment\")\n",
    "plt.xlabel(\"Sentiment\")\n",
    "plt.ylabel(\"Number of sentences\")"
   ]
  },
  {
   "cell_type": "markdown",
   "metadata": {},
   "source": [
    "### Remove Contractions"
   ]
  },
  {
   "cell_type": "code",
   "execution_count": 10,
   "metadata": {},
   "outputs": [
    {
     "name": "stderr",
     "output_type": "stream",
     "text": [
      "At least one of the documents had no words that were in the vocabulary.\n",
      "At least one of the documents had no words that were in the vocabulary.\n",
      "At least one of the documents had no words that were in the vocabulary.\n",
      "At least one of the documents had no words that were in the vocabulary.\n",
      "At least one of the documents had no words that were in the vocabulary.\n",
      "At least one of the documents had no words that were in the vocabulary.\n",
      "At least one of the documents had no words that were in the vocabulary.\n",
      "At least one of the documents had no words that were in the vocabulary.\n",
      "At least one of the documents had no words that were in the vocabulary.\n",
      "At least one of the documents had no words that were in the vocabulary.\n",
      "At least one of the documents had no words that were in the vocabulary.\n",
      "At least one of the documents had no words that were in the vocabulary.\n",
      "At least one of the documents had no words that were in the vocabulary.\n",
      "At least one of the documents had no words that were in the vocabulary.\n",
      "At least one of the documents had no words that were in the vocabulary.\n",
      "At least one of the documents had no words that were in the vocabulary.\n",
      "At least one of the documents had no words that were in the vocabulary.\n",
      "At least one of the documents had no words that were in the vocabulary.\n",
      "At least one of the documents had no words that were in the vocabulary.\n",
      "At least one of the documents had no words that were in the vocabulary.\n",
      "At least one of the documents had no words that were in the vocabulary.\n",
      "At least one of the documents had no words that were in the vocabulary.\n",
      "At least one of the documents had no words that were in the vocabulary.\n",
      "At least one of the documents had no words that were in the vocabulary.\n",
      "At least one of the documents had no words that were in the vocabulary.\n",
      "At least one of the documents had no words that were in the vocabulary.\n",
      "At least one of the documents had no words that were in the vocabulary.\n",
      "At least one of the documents had no words that were in the vocabulary.\n",
      "At least one of the documents had no words that were in the vocabulary.\n",
      "At least one of the documents had no words that were in the vocabulary.\n",
      "At least one of the documents had no words that were in the vocabulary.\n",
      "At least one of the documents had no words that were in the vocabulary.\n",
      "At least one of the documents had no words that were in the vocabulary.\n",
      "At least one of the documents had no words that were in the vocabulary.\n",
      "At least one of the documents had no words that were in the vocabulary.\n",
      "At least one of the documents had no words that were in the vocabulary.\n",
      "At least one of the documents had no words that were in the vocabulary.\n",
      "At least one of the documents had no words that were in the vocabulary.\n",
      "At least one of the documents had no words that were in the vocabulary.\n",
      "At least one of the documents had no words that were in the vocabulary.\n",
      "At least one of the documents had no words that were in the vocabulary.\n",
      "At least one of the documents had no words that were in the vocabulary.\n",
      "At least one of the documents had no words that were in the vocabulary.\n",
      "At least one of the documents had no words that were in the vocabulary.\n",
      "At least one of the documents had no words that were in the vocabulary.\n",
      "At least one of the documents had no words that were in the vocabulary.\n",
      "At least one of the documents had no words that were in the vocabulary.\n",
      "At least one of the documents had no words that were in the vocabulary.\n",
      "At least one of the documents had no words that were in the vocabulary.\n",
      "At least one of the documents had no words that were in the vocabulary.\n",
      "At least one of the documents had no words that were in the vocabulary.\n",
      "At least one of the documents had no words that were in the vocabulary.\n",
      "At least one of the documents had no words that were in the vocabulary.\n",
      "At least one of the documents had no words that were in the vocabulary.\n",
      "At least one of the documents had no words that were in the vocabulary.\n",
      "At least one of the documents had no words that were in the vocabulary.\n",
      "At least one of the documents had no words that were in the vocabulary.\n",
      "At least one of the documents had no words that were in the vocabulary.\n",
      "At least one of the documents had no words that were in the vocabulary.\n",
      "At least one of the documents had no words that were in the vocabulary.\n",
      "At least one of the documents had no words that were in the vocabulary.\n",
      "At least one of the documents had no words that were in the vocabulary.\n"
     ]
    }
   ],
   "source": [
    "for emotion in emotions:\n",
    "    emotion_sentences = emotions_corpus_dict[emotion]\n",
    "    \n",
    "    emotions_corpus_dict[emotion] = list(cont.expand_texts(emotion_sentences))"
   ]
  },
  {
   "cell_type": "code",
   "execution_count": 11,
   "metadata": {},
   "outputs": [
    {
     "data": {
      "text/plain": [
       "['Sorry to bother you but do you have the 270 textbook?',\n",
       " 'what is it called',\n",
       " 'Digital design and principles I think',\n",
       " 'I do not think so?',\n",
       " 'I could be wrong']"
      ]
     },
     "execution_count": 11,
     "metadata": {},
     "output_type": "execute_result"
    }
   ],
   "source": [
    "emotions_corpus_dict['neutral'][:5]"
   ]
  },
  {
   "cell_type": "markdown",
   "metadata": {},
   "source": [
    "### Simple Term Frequency"
   ]
  },
  {
   "cell_type": "code",
   "execution_count": 16,
   "metadata": {},
   "outputs": [
    {
     "name": "stderr",
     "output_type": "stream",
     "text": [
      "emotion: 100%|██████████| 8/8 [00:04<00:00,  1.80it/s]\n"
     ]
    }
   ],
   "source": [
    "vectorizer = CountVectorizer(analyzer='word', ngram_range=(1,3), stop_words='english')\n",
    "\n",
    "vocabulary_tf_sorted = {}\n",
    "\n",
    "for emotion in tqdm(emotions, desc=\"emotion\"):\n",
    "    # returns document x term matrix\n",
    "    X = vectorizer.fit_transform(emotions_corpus_dict[emotion])\n",
    "    \n",
    "    tf_corpus = []\n",
    "    \n",
    "    term_doc_matrix = X.T\n",
    "    \n",
    "    for term_count in term_doc_matrix:\n",
    "        tf_corpus.append(np.sum(term_count))\n",
    "      \n",
    "    vocabulary_tf = zip(vectorizer.get_feature_names(), tf_corpus)\n",
    "    \n",
    "    vocabulary_tf_reduced = [(word, tf) for (word, tf) in vocabulary_tf if tf > 2]\n",
    "    \n",
    "    vocabulary_tf_sorted[emotion] = sorted(vocabulary_tf_reduced, key = lambda x: x[1], reverse=True)"
   ]
  },
  {
   "cell_type": "code",
   "execution_count": 17,
   "metadata": {},
   "outputs": [
    {
     "name": "stdout",
     "output_type": "stream",
     "text": [
      "neutral\n",
      "[('just', 310), ('like', 291), ('yeah', 259), ('think', 192), ('did', 187), ('know', 173), ('ok', 167), ('going', 162), ('oh', 162), ('want', 162), ('need', 133), ('lol', 121), ('good', 111), ('time', 111), ('yes', 100), ('got', 98), ('right', 94), ('probably', 93), ('sure', 89), ('okay', 88), ('idk', 83), ('does', 82), ('people', 80), ('work', 80), ('make', 71), ('mean', 70), ('stuff', 68), ('come', 66), ('haha', 66), ('let', 66), ('thing', 66), ('maybe', 64), ('actually', 60), ('hl', 58), ('tomorrow', 57), ('really', 56), ('home', 55), ('hey', 53), ('today', 52), ('things', 51)]\n",
      "---------------------------\n",
      "non-neutral\n",
      "[('like', 87), ('lol', 85), ('just', 63), ('oh', 63), ('did', 34), ('really', 33), ('shit', 30), ('yeah', 27), ('know', 26), ('going', 24), ('haha', 22), ('does', 21), ('want', 21), ('got', 19), ('people', 19), ('right', 19), ('think', 18), ('time', 17), ('need', 15), ('feel', 14), ('fuck', 13), ('lot', 13), ('stuff', 13), ('way', 13), ('work', 13), ('wtf', 13), ('bad', 12), ('damn', 12), ('good', 12), ('sure', 12), ('idk', 11), ('thought', 11), ('come', 10), ('god', 10), ('long', 10), ('nice', 10), ('said', 10), ('bus', 9), ('ok', 9), ('thing', 9)]\n",
      "---------------------------\n",
      "disgust\n",
      "[('like', 5), ('ugh', 5), ('gross', 4), ('people', 4), ('bad', 3), ('fuck', 3), ('hate', 3), ('thing', 3)]\n",
      "---------------------------\n",
      "surprise\n",
      "[('oh', 84), ('did', 24), ('wait', 19), ('like', 18), ('omg', 17), ('really', 17), ('shit', 17), ('wtf', 16), ('lol', 14), ('wow', 13), ('damn', 10), ('god', 10), ('holy', 10), ('thought', 9), ('dude', 7), ('fuck', 7), ('holy shit', 7), ('just', 7), ('oh god', 7), ('yeah', 7), ('got', 6), ('wat', 6), ('actually', 5), ('crazy', 5), ('going', 5), ('good', 5), ('know', 5), ('sleep', 5), ('waw', 5), ('weird', 5), ('bed', 4), ('oh damn', 4), ('oh really', 4), ('oh shit', 4), ('ohhh', 4), ('okay', 4), ('room', 4), ('things', 4), ('woah', 4), ('yikes', 4)]\n",
      "---------------------------\n",
      "joy\n",
      "[('lol', 282), ('haha', 145), ('love', 72), ('good', 66), ('just', 49), ('like', 45), ('oh', 44), ('cool', 40), ('hahaha', 40), ('yeah', 40), ('nice', 36), ('got', 32), ('thanks', 31), ('yes', 27), ('ok', 25), ('really', 24), ('lmao', 23), ('want', 22), ('pretty', 20), ('sure', 20), ('know', 19), ('thank', 19), ('god', 18), ('going', 18), ('great', 18), ('yay', 18), ('hehe', 17), ('okay', 17), ('did', 16), ('sounds', 15), ('fun', 14), ('omg', 14), ('time', 14), ('actually', 13), ('awesome', 13), ('think', 13), ('yea', 13), ('let', 12), ('make', 12), ('things', 12)]\n",
      "---------------------------\n",
      "sadness\n",
      "[('sorry', 49), ('like', 24), ('oh', 18), ('miss', 14), ('bad', 13), ('feel', 13), ('just', 13), ('aw', 12), ('want', 11), ('sad', 10), ('got', 8), ('yeah', 8), ('poor', 7), ('really', 7), ('does', 6), ('feel bad', 6), ('going', 6), ('lost', 6), ('work', 6), ('did', 5), ('kind', 5), ('phone', 5), ('probably', 5), ('rip', 5), ('think', 5), ('tired', 5), ('come', 4), ('feel like', 4), ('guess', 4), ('hard', 4), ('know', 4), ('late', 4), ('love', 4), ('mean', 4), ('sick', 4), ('time', 4), ('went', 4), ('working', 4), ('ya', 4), ('away', 3)]\n",
      "---------------------------\n",
      "fear\n",
      "[('just', 5), ('like', 4), ('oh', 4), ('scared', 4), ('want', 3)]\n",
      "---------------------------\n",
      "anger\n",
      "[('fuck', 12), ('hate', 6), ('did', 5), ('fucking', 5), ('just', 5), ('like', 4), ('actually', 3), ('does', 3), ('drive', 3), ('god', 3), ('need', 3), ('time', 3)]\n",
      "---------------------------\n"
     ]
    }
   ],
   "source": [
    "for emotion in vocabulary_tf_sorted:\n",
    "    print(emotion)\n",
    "    print(vocabulary_tf_sorted[emotion][:40])\n",
    "    breakpoint()\n",
    "    print(\"---------------------------\")"
   ]
  },
  {
   "cell_type": "markdown",
   "metadata": {},
   "source": [
    "### Most relevant words per sentiment but removing common words between sentiments."
   ]
  },
  {
   "cell_type": "code",
   "execution_count": 18,
   "metadata": {},
   "outputs": [
    {
     "name": "stderr",
     "output_type": "stream",
     "text": [
      "emotion: 8it [00:00, 243.03it/s]"
     ]
    },
    {
     "name": "stdout",
     "output_type": "stream",
     "text": [
      "neutral\n",
      "just 310\n",
      "like 291\n",
      "yeah 259\n",
      "think 192\n",
      "did 187\n",
      "know 173\n",
      "ok 167\n",
      "going 162\n",
      "oh 162\n",
      "want 162\n",
      "-----------------------\n",
      "non-neutral\n",
      "like 87\n",
      "lol 85\n",
      "just 63\n",
      "oh 63\n",
      "did 34\n",
      "really 33\n",
      "shit 30\n",
      "yeah 27\n",
      "know 26\n",
      "going 24\n",
      "-----------------------\n",
      "disgust\n",
      "like 5\n",
      "ugh 5\n",
      "gross 4\n",
      "people 4\n",
      "bad 3\n",
      "fuck 3\n",
      "hate 3\n",
      "thing 3\n",
      "-----------------------\n",
      "surprise\n",
      "oh 84\n",
      "did 24\n",
      "wait 19\n",
      "like 18\n",
      "omg 17\n",
      "really 17\n",
      "shit 17\n",
      "wtf 16\n",
      "lol 14\n",
      "wow 13\n",
      "-----------------------\n",
      "joy\n",
      "lol 282\n",
      "haha 145\n",
      "love 72\n",
      "good 66\n",
      "just 49\n",
      "like 45\n",
      "oh 44\n",
      "cool 40\n",
      "hahaha 40\n",
      "yeah 40\n",
      "-----------------------\n",
      "sadness\n",
      "sorry 49\n",
      "like 24\n",
      "oh 18\n",
      "miss 14\n",
      "bad 13\n",
      "feel 13\n",
      "just 13\n",
      "aw 12\n",
      "want 11\n",
      "sad 10\n",
      "-----------------------\n",
      "fear\n",
      "just 5\n",
      "like 4\n",
      "oh 4\n",
      "scared 4\n",
      "want 3\n",
      "-----------------------\n",
      "anger\n",
      "fuck 12\n",
      "hate 6\n",
      "did 5\n",
      "fucking 5\n",
      "just 5\n",
      "like 4\n",
      "actually 3\n",
      "does 3\n",
      "drive 3\n",
      "god 3\n",
      "-----------------------\n"
     ]
    },
    {
     "name": "stderr",
     "output_type": "stream",
     "text": [
      "\n"
     ]
    }
   ],
   "source": [
    "unique = 1\n",
    "n_retrieved = 0\n",
    "\n",
    "for i, emotion1 in tqdm(enumerate(vocabulary_tf_sorted), desc=\"emotion\"):\n",
    "    print(emotion1)\n",
    "    \n",
    "    for (token, tf) in vocabulary_tf_sorted[emotion1]:\n",
    "        for j, emotion2 in enumerate(vocabulary_tf_sorted):\n",
    "            \n",
    "            # if the sentiment class is the same don't compare tokens\n",
    "            if emotion1 == emotion2: continue\n",
    "                \n",
    "            else:\n",
    "                # separate vocabulary from term frequency from the list of the 2nd emotion\n",
    "                # vocab_aux, tf_aux = [list(c) for c in zip(*vocabulary_tf_sorted[emotion2])]\n",
    "\n",
    "                for i, (token2, tf2) in enumerate(vocabulary_tf_sorted[emotion2]):\n",
    "                    \n",
    "                    if token == token2 and tf + 1000 < tf2: \n",
    "                        unique = 0\n",
    "                        break\n",
    "        \n",
    "        # if we haven't retrieved 10 tokens yet and the token is unique to the sentiment, then print\n",
    "        if n_retrieved < 10:\n",
    "            if unique:\n",
    "                n_retrieved += 1\n",
    "                print(token, tf) \n",
    "        else:\n",
    "            break\n",
    "            \n",
    "    n_retrieved = 0\n",
    "        \n",
    "    print(\"-----------------------\")       \n",
    "        "
   ]
  },
  {
   "cell_type": "markdown",
   "metadata": {},
   "source": [
    "### TF-IDF\n",
    "\n",
    "**Idea**: The sentences of a single sentiment will belong to a unique document. We will rank each token of the document when compared to the full corpus.\n",
    "\n",
    "**Note**: Each document will be a string with all sentences belonging to a single sentiment. "
   ]
  },
  {
   "cell_type": "code",
   "execution_count": 19,
   "metadata": {},
   "outputs": [
    {
     "name": "stderr",
     "output_type": "stream",
     "text": [
      "emotion:   0%|          | 0/8 [00:00<?, ?it/s]\n",
      "sentence: 100%|██████████| 7148/7148 [00:00<00:00, 383147.20it/s]\n",
      "\n",
      "sentence: 100%|██████████| 1064/1064 [00:00<00:00, 312582.44it/s]\n",
      "\n",
      "sentence: 100%|██████████| 85/85 [00:00<00:00, 230158.71it/s]\n",
      "\n",
      "sentence: 100%|██████████| 435/435 [00:00<00:00, 236275.87it/s]\n",
      "\n",
      "sentence: 100%|██████████| 1482/1482 [00:00<00:00, 259181.86it/s]\n",
      "\n",
      "sentence: 100%|██████████| 389/389 [00:00<00:00, 309716.07it/s]\n",
      "\n",
      "sentence: 100%|██████████| 36/36 [00:00<00:00, 79976.14it/s]\n",
      "\n",
      "sentence: 100%|██████████| 94/94 [00:00<00:00, 282222.32it/s]\n",
      "emotion: 100%|██████████| 8/8 [00:00<00:00, 113.48it/s]\n"
     ]
    }
   ],
   "source": [
    "corpus_by_emotion = []\n",
    "\n",
    "for emotion in tqdm(emotions, desc=\"emotion\"): \n",
    "    corpus = \"\"\n",
    "    \n",
    "    # select examples of the corpus that are labelled with the specific sentiment \n",
    "    emotion_df = df[df['emotion'] == emotion]\n",
    "    emotion_corpus = emotion_df['utterance'].values\n",
    "    \n",
    "    # preprocessing + building string corpus\n",
    "    for sentence in tqdm(emotion_corpus, desc=\"sentence\"):\n",
    "        corpus += data_analysis.preprocessing(sentence, lower=True, punct=True) + \" \"\n",
    "        \n",
    "    corpus_by_emotion.append(corpus)"
   ]
  },
  {
   "cell_type": "code",
   "execution_count": 20,
   "metadata": {},
   "outputs": [],
   "source": [
    "tfidf_vectorizer = TfidfVectorizer(ngram_range=(1,3), analyzer=\"word\", sublinear_tf=True)\n",
    "\n",
    "tfidf_vectorspace = tfidf_vectorizer.fit_transform(corpus_by_emotion)"
   ]
  },
  {
   "cell_type": "code",
   "execution_count": 21,
   "metadata": {},
   "outputs": [
    {
     "data": {
      "text/plain": [
       "(8, 101715)"
      ]
     },
     "execution_count": 21,
     "metadata": {},
     "output_type": "execute_result"
    }
   ],
   "source": [
    "# matrix: emotion x tokens\n",
    "tfidf_vectorspace.shape"
   ]
  },
  {
   "cell_type": "markdown",
   "metadata": {},
   "source": [
    "From this vectorspace we want to find the top n most relevant tokens per sentiment, i.e., sort each line in the vectorspace and retrieve the top n."
   ]
  },
  {
   "cell_type": "code",
   "execution_count": 22,
   "metadata": {},
   "outputs": [
    {
     "name": "stderr",
     "output_type": "stream",
     "text": [
      "8it [00:00, 42.29it/s]\n"
     ]
    }
   ],
   "source": [
    "emotions_lexicon = {}\n",
    "\n",
    "n = 10\n",
    "\n",
    "feature_array = np.array(tfidf_vectorizer.get_feature_names())\n",
    "\n",
    "for i, tfidf_scores in tqdm(enumerate(tfidf_vectorspace)):\n",
    "    tfidf_sorting = np.argsort(tfidf_scores.toarray()).flatten()[::-1]\n",
    "    top_n = feature_array[tfidf_sorting][:n]\n",
    "    \n",
    "    emotions_lexicon[emotions[i]] = top_n    "
   ]
  },
  {
   "cell_type": "code",
   "execution_count": 23,
   "metadata": {},
   "outputs": [
    {
     "data": {
      "text/plain": [
       "{'neutral': array(['do you have', 'you do', 'move', 'somewhere', 'if not', 'do have',\n",
       "        'not sure', 'let me', 'nope', 'notes'], dtype='<U111'),\n",
       " 'non-neutral': array(['haha', 'the', 'to', 'too', 'it', 'and', 'something', 'have',\n",
       "        'ugh', 'you'], dtype='<U111'),\n",
       " 'disgust': array(['gross', 'ugh', 'hate my', 'disgusting', 'her is', 'vomit', 'puke',\n",
       "        'implying that people', 'magicians', 'don like magicians'],\n",
       "       dtype='<U111'),\n",
       " 'surprise': array(['holy', 'wait what', 'holy shit', 'oh', 'what how', 'wtf',\n",
       "        'oh thought', 'what oh', 'went to sleep', 'wait wat'],\n",
       "       dtype='<U111'),\n",
       " 'joy': array(['love you', 'lol lol', 'yay', 'haha', 'haha lol', 'you love you',\n",
       "        'love you love', 'hahaha', 'love', 'thank'], dtype='<U111'),\n",
       " 'sadness': array(['miss you', 'sorry sorry', 'miss', 'poor', 'sorry', 'sad',\n",
       "        'miss you too', 'aw', 'too', 'sorry oh'], dtype='<U111'),\n",
       " 'fear': array(['scared', 'so scared', 'just randomly', 'randomly', 'to', 'scary',\n",
       "        'and', 'is', 'it', 'up and'], dtype='<U111'),\n",
       " 'anger': array(['fuck', 'put me in', 'my sidemirror', 'fuk', 'sidemirror',\n",
       "        'dang it', 'put me', 'me in such', 'is frustrating', 'in front of'],\n",
       "       dtype='<U111')}"
      ]
     },
     "execution_count": 23,
     "metadata": {},
     "output_type": "execute_result"
    }
   ],
   "source": [
    "emotions_lexicon"
   ]
  },
  {
   "cell_type": "code",
   "execution_count": null,
   "metadata": {},
   "outputs": [],
   "source": []
  },
  {
   "cell_type": "code",
   "execution_count": null,
   "metadata": {},
   "outputs": [],
   "source": []
  }
 ],
 "metadata": {
  "kernelspec": {
   "display_name": "thesis",
   "language": "python",
   "name": "thesis"
  },
  "language_info": {
   "codemirror_mode": {
    "name": "ipython",
    "version": 3
   },
   "file_extension": ".py",
   "mimetype": "text/x-python",
   "name": "python",
   "nbconvert_exporter": "python",
   "pygments_lexer": "ipython3",
   "version": "3.9.2"
  }
 },
 "nbformat": 4,
 "nbformat_minor": 4
}
